{
 "cells": [
  {
   "cell_type": "code",
   "execution_count": 2,
   "metadata": {},
   "outputs": [],
   "source": [
    "from queryAnalyzer import getPlayersInQuery, getLeaguesInQuery, getTeamsInQuery, getSeasonsInQuery, getStagesInQuery\n",
    "import sqlAnswers"
   ]
  },
  {
   "cell_type": "code",
   "execution_count": 3,
   "metadata": {},
   "outputs": [],
   "source": [
    "import sqlite3\n",
    "sqlite_file = 'database.sqlite'\n",
    "\n",
    "query1 = \"Thomas Mueller ist der beste Spieler der Welt!\"\n",
    "query1 = \"Müller Thomas ist der beste Spieler der Welt, nicht Aaron Doran!\"\n",
    "query2 = \"Bundesliga und Jupiler League sind supi!\"\n",
    "query2 = \"Die deutsche Liga ist supi!\"\n"
   ]
  },
  {
   "cell_type": "code",
   "execution_count": 4,
   "metadata": {},
   "outputs": [],
   "source": [
    "#make query insensitive for umlaute\n",
    "def preProcessQuery(query):\n",
    "    umlaut_a = 'ä'.encode()\n",
    "    umlaut_A = 'Ä'.encode()\n",
    "    umlaut_o = 'ö'.encode()\n",
    "    umlaut_O = 'Ö'.encode()\n",
    "    umlaut_u = 'ü'.encode()\n",
    "    umlaut_U = 'Ü'.encode()\n",
    "    \n",
    "    query = query.encode()\n",
    "    \n",
    "    query = query.replace(umlaut_a, b'ae')\n",
    "    query = query.replace(umlaut_A, b'Ae')\n",
    "    query = query.replace(umlaut_o, b'oe')\n",
    "    query = query.replace(umlaut_O, b'Oe')\n",
    "    query = query.replace(umlaut_u, b'ue')\n",
    "    query = query.replace(umlaut_U, b'Ue')\n",
    "    \n",
    "    query = query.decode('utf-8')\n",
    "    \n",
    "    if(query[-1:] == '?' or query[-1:] == '!' or query[-1:] == '.' ):\n",
    "        return query[:-1]\n",
    "    return query"
   ]
  },
  {
   "cell_type": "markdown",
   "metadata": {},
   "source": [
    "Query wird verarbeitet:\n",
    "    \n",
    "- Liefert eine playerID eines Spielers zurück\n",
    "- Keyword \"wiegt\" (oder auch \"schwer\") wird gefunden\n",
    "\n",
    "-> dieses keyword hat nen pointer auf eine SQL Query mit Platzhaltern, in welches die ID des Spielers von dem gesetzt wird\n",
    "\n",
    "\n",
    "'SELECT weight FROM player WHERE id = playerID'\n",
    "\n",
    "\n",
    "flair tool \n",
    "was passiert wenn der Input da rein kommt"
   ]
  },
  {
   "cell_type": "markdown",
   "metadata": {
    "scrolled": true
   },
   "source": [
    "Queries mit \"Tags\"\n",
    "\n",
    "Spieler\n",
    "Ligen\n",
    "Verein (evtl abkürzung)\n",
    "Saison / Jahr\n",
    "\n",
    "\n",
    "\n"
   ]
  },
  {
   "cell_type": "code",
   "execution_count": 6,
   "metadata": {},
   "outputs": [
    {
     "name": "stdout",
     "output_type": "stream",
     "text": [
      "[(307, 1, 1, '2009/2010', 1, '2009-07-31 00:00:00', 665318, 9985, 9997, 2, 2, 1, 2, 4, 6, 8, 2, 4, 6, 8, 4, 6, 1, 2, 4, 6, 8, 2, 4, 6, 8, 4, 6, 1, 3, 3, 3, 3, 7, 7, 7, 7, 10, 10, 1, 3, 3, 3, 3, 7, 7, 7, 7, 10, 10, 38797, 39580, 38800, 37861, 47411, 35412, 39631, 39591, 37262, 25957, 38369, 37868, 33595, 38347, 3329, 149150, 38354, 37866, 36836, None, 5016, 45490, None, None, None, None, None, None, None, None, 1.22, 6, 13, 1.2, 5.5, 10.5, 1.2, 5, 10, 1.17, 5.5, 12, None, None, None, 1.2, 5, 11, 1.18, 6.5, 13, 1.2, 5.5, 12, 1.2, 5.5, 11, 1.17, 6, 11)]\n"
     ]
    }
   ],
   "source": [
    "def getTeamMatches(): #testausrufe\n",
    "    import sqlite3\n",
    "    conn = sqlite3.connect('database.sqlite')\n",
    "    c = conn.cursor()\n",
    "    queryText = 'SELECT * FROM match WHERE id = 307'\n",
    "    c.execute(queryText)\n",
    "    result = c.fetchall()\n",
    "    conn.close()\n",
    "    return result\n",
    "print(getTeamMatches())"
   ]
  },
  {
   "cell_type": "code",
   "execution_count": 7,
   "metadata": {},
   "outputs": [],
   "source": [
    "from flair.embeddings import WordEmbeddings\n",
    "from flair.data import Sentence\n",
    "german_embedding = WordEmbeddings('de-crawl')\n",
    " \n",
    "import numpy\n",
    "import json"
   ]
  },
  {
   "cell_type": "code",
   "execution_count": 8,
   "metadata": {},
   "outputs": [],
   "source": [
    "def getVectorOfAnswer(index):\n",
    "    with open('trainData.json', 'r') as myfile:\n",
    "        data=myfile.read()\n",
    "    obj = json.loads(data)\n",
    "    embeddings = 0\n",
    "    for sentence in obj[str(index)]:\n",
    "        \n",
    "        sentence = Sentence(preProcessQuery(sentence))\n",
    "        german_embedding.embed(sentence)\n",
    "        \n",
    "        embed = 0\n",
    "        for token in sentence:\n",
    "            #print(token)\n",
    "            embed += token.embedding.numpy()\n",
    "        #evtl embed durch die anzahl an Wörtern darin teilen ? beim Finalen auch?\n",
    "        embeddings += embed\n",
    "    return embeddings\n",
    "#print(getVectorOfAnswer(0))"
   ]
  },
  {
   "cell_type": "code",
   "execution_count": 9,
   "metadata": {},
   "outputs": [],
   "source": [
    "import numpy as np\n",
    "def getVectorOfQuery(query):\n",
    "    sentence = Sentence(query)\n",
    "    german_embedding.embed(sentence)\n",
    "    \n",
    "    embed = 0\n",
    "    for token in sentence:\n",
    "        #print(token)\n",
    "        embed += token.embedding.numpy()\n",
    "    return embed\n",
    "\n",
    "\n",
    "def unit_vector(vector):\n",
    "    return vector / np.linalg.norm(vector)\n",
    "\n",
    "def angle_between(v1, v2):\n",
    "    v1_u = unit_vector(v1)\n",
    "    v2_u = unit_vector(v2)\n",
    "    return np.arccos(np.clip(np.dot(v1_u, v2_u), -1.0, 1.0))\n",
    "\n"
   ]
  },
  {
   "cell_type": "code",
   "execution_count": 27,
   "metadata": {},
   "outputs": [],
   "source": [
    "def getAnswer(question):\n",
    "    query = preProcessQuery(question)\n",
    "    \n",
    "    pQ = getPlayersInQuery(query)\n",
    "    lQ = getLeaguesInQuery(pQ[1])\n",
    "    tQ = getTeamsInQuery(lQ[1])\n",
    "    sQ = getSeasonsInQuery(tQ[1])\n",
    "    yQ = getStagesInQuery(sQ[1])\n",
    "    print(\"Query, aus dem der Vektor gemacht wird:\")\n",
    "    print(yQ[1]) # die letzt query die dann auch dem vector gegeben wird\n",
    "    print(\"\")\n",
    "    queryV = getVectorOfQuery(yQ[1]) # erwarter preprocessed Query, TODO \n",
    "    \n",
    "    queryRefined = [pQ[0],lQ[0],tQ[0],sQ[0],yQ[0]]\n",
    "    #queryV = getVectorOfQuery(pQ[1]) # erwarter preprocessed Query, TODO \n",
    "    #print(getPlayersInQuery(query)[1])\n",
    "\n",
    "    #queryRefined = [pQ[0], getLeaguesInQuery(query),getTeamsInQuery(query),getSeasonsInQuery(query),getStagesInQuery(query)]\n",
    "    print(\"gefundene Dinge: \")\n",
    "    print(queryRefined)\n",
    "    answers = sqlAnswers.getAnswers()\n",
    "\n",
    "\n",
    "    queryToCompare = [len(queryRefined[0]),len(queryRefined[1]),len(queryRefined[2]),len(queryRefined[3]),len(queryRefined[4])]\n",
    "    possibleAnswers = [] \n",
    "    #contains index with possible ansers which could match the query depending\n",
    "    #on number of player occurances etc\n",
    "\n",
    "    for x in range(0,len(answers)): #check for every \"answer\", if [1,0,0,0] matches [1,0,0,0] etc\n",
    "        sqlMatches = True;\n",
    "        for i in range(0, len(queryToCompare)): #interate through the whole [0,1,2,3] array and check \n",
    "            if(queryToCompare[i] != answers[x][i]):  # if something doesnt match, throw it out\n",
    "                sqlMatches = False\n",
    "        if(sqlMatches):\n",
    "            possibleAnswers.append(x)\n",
    "        \n",
    "\n",
    "    print(\"In Frage kommende Anworten von der Anzahl der gefundenen Namen etc her: \")       \n",
    "    print(possibleAnswers)\n",
    "    if(len(possibleAnswers) == 1):\n",
    "        return answers[possibleAnswers[0]][5](queryRefined)\n",
    "    if(len(possibleAnswers) == 0):\n",
    "        return \"Es konnte leider keine passende Antwort gefunden werden!\"\n",
    "    angles = []\n",
    "    for answerIndex in possibleAnswers:\n",
    "        angles.append(angle_between(getVectorOfAnswer(answerIndex),queryV))\n",
    "\n",
    "    print(angles)\n",
    "    print(\"Beste gefundene Antwort anhand der Cosinus Ähnlichkeit: \" + str(angles.index(min(angles))))\n",
    "\n",
    "    return answers[angles.index(min(angles))][5](queryRefined)"
   ]
  },
  {
   "cell_type": "code",
   "execution_count": 39,
   "metadata": {},
   "outputs": [
    {
     "name": "stdout",
     "output_type": "stream",
     "text": [
      "Ihre Eingabe? Wo steht Manuel Neuer unter Vertrag?\n",
      "Query, aus dem der Vektor gemacht wird:\n",
      "Wo steht SPIELER unter Vertrag\n",
      "\n",
      "gefundene Dinge: \n",
      "[[6556], [], [], [], []]\n",
      "In Frage kommende Anworten von der Anzahl der gefundenen Namen etc her: \n",
      "[0, 1, 2, 3]\n",
      "[0.7824522, 0.85095006, 0.8254116, 0.3808763]\n",
      "Beste gefundene Antwort anhand der Cosinus Ähnlichkeit: 3\n",
      "Der Spieler spielte in Saison 2015/2016 bei FC Bayern Munich.\n"
     ]
    }
   ],
   "source": [
    "#Stellen Sie Ihre Frage:\n",
    "eingabe = input(\"Ihre Eingabe? \")\n",
    "print(getAnswer(eingabe))"
   ]
  },
  {
   "cell_type": "markdown",
   "metadata": {},
   "source": [
    "Manuel Neuer und Thomas Müller 2009 Bundesliga\n",
    "Wo spielte Thomas Müller Heimverein?\n",
    "Was ist der Heimverein von Manuel Neuer?\n",
    "Was ist der Heimverein von Toni Kroos?\n",
    "\n",
    "Wo hat Manuel Neuer 2008/2009 gespielt?\n",
    "Wo hat Manuel Neuer 2014/2015 gespielt?\n",
    "\n",
    "was ist der bevorzugte Fuß von Toni Kroos?\n",
    "\n",
    "Was ist das Geburtsdatum von Jerome Boateng?"
   ]
  },
  {
   "cell_type": "code",
   "execution_count": 11,
   "metadata": {},
   "outputs": [
    {
     "name": "stdout",
     "output_type": "stream",
     "text": [
      "[ 0.0101 -0.0324  0.0064  0.0767  0.0522 -0.0582  0.015  -0.0181 -0.0356\n",
      " -0.0003 -0.0372 -0.063  -0.0258  0.0188  0.0481 -0.037  -0.0125 -0.1202\n",
      " -0.056  -0.0276 -0.0389 -0.0457 -0.0366  0.0036  0.0618  0.0006 -0.0593\n",
      " -0.0095 -0.015   0.0026 -0.0403  0.0349  0.0058  0.     -0.0371  0.0427\n",
      " -0.0589  0.0689  0.0384 -0.0068 -0.0181 -0.0502  0.0126 -0.0265 -0.0411\n",
      "  0.0172  0.0711  0.0301  0.0403 -0.0197 -0.0302 -0.0847 -0.0432 -0.0283\n",
      " -0.0503  0.0651  0.0048 -0.0152 -0.0291  0.0245  0.0095  0.0865  0.0317\n",
      "  0.0546  0.0408  0.0445  0.0669 -0.0715  0.0694 -0.0169  0.0126 -0.0683\n",
      " -0.0098 -0.0072 -0.0273  0.0328 -0.0389  0.0533 -0.0303 -0.0352 -0.0482\n",
      " -0.0097 -0.048  -0.014  -0.0036  0.0726  0.0089 -0.0113 -0.0135  0.0309\n",
      "  0.0325 -0.0185  0.0069  0.0055  0.08   -0.0394  0.0544  0.0144 -0.0015\n",
      " -0.0202 -0.0241 -0.0654 -0.025  -0.0284  0.0439  0.0265 -0.0031  0.004\n",
      " -0.0293 -0.0101  0.0059 -0.0386 -0.0235 -0.0442  0.0452  0.0019  0.0396\n",
      " -0.0618  0.0229 -0.04   -0.0108 -0.0165  0.0409 -0.0178 -0.0425  0.0206\n",
      " -0.008   0.0261  0.0086 -0.04   -0.0979  0.0638 -0.0522  0.0364  0.0247\n",
      "  0.0156  0.0783  0.0376 -0.0181  0.0141  0.07   -0.0179 -0.0615  0.0529\n",
      "  0.0472  0.0108  0.023   0.0253 -0.0539  0.0219  0.0639  0.0655 -0.051\n",
      " -0.0261 -0.0371  0.0304 -0.0039 -0.0383 -0.02   -0.1374 -0.0148  0.0077\n",
      " -0.0023 -0.0382 -0.0457 -0.0018 -0.0102 -0.0187 -0.0576  0.0094  0.0085\n",
      " -0.0181  0.0014 -0.0089 -0.009   0.0773 -0.0127  0.0781  0.0144  0.0226\n",
      "  0.0391  0.0791 -0.014   0.0185 -0.059  -0.0244  0.0599  0.0274  0.0205\n",
      "  0.0723 -0.0243  0.0077  0.0038  0.0278  0.0133  0.0615  0.0204 -0.0092\n",
      "  0.0267  0.0165 -0.0399 -0.0867 -0.0158  0.0548  0.0171 -0.0156  0.0116\n",
      "  0.0696  0.0066  0.0149  0.0332 -0.0222  0.0273 -0.0056  0.055   0.0006\n",
      "  0.0164  0.0393  0.0683  0.0448  0.0923  0.0761 -0.0016 -0.0414  0.0498\n",
      " -0.0024  0.0121  0.0555  0.0563 -0.0172 -0.0056  0.0317 -0.0488 -0.0097\n",
      "  0.0889 -0.03    0.0774  0.1177  0.0778  0.021   0.0206  0.0062 -0.0399\n",
      " -0.0535 -0.0135 -0.0169 -0.0137  0.0266 -0.0494 -0.0367 -0.0161 -0.0196\n",
      "  0.012  -0.0319  0.0352 -0.0029  0.0038 -0.0495 -0.0093 -0.0827 -0.0298\n",
      "  0.0336 -0.0324 -0.0003 -0.0143 -0.0369  0.0083  0.0199 -0.0546 -0.0115\n",
      " -0.0836 -0.1028 -0.1162  0.0273 -0.0205 -0.0139  0.1024  0.0304  0.007\n",
      " -0.0514 -0.0338 -0.0104 -0.0215  0.0945  0.0226 -0.0583 -0.0209 -0.0015\n",
      " -0.0501  0.0166 -0.0165 -0.0031  0.0255 -0.0725  0.0335 -0.0095 -0.0614\n",
      "  0.009   0.      0.058 ]\n"
     ]
    }
   ],
   "source": [
    "print(getVectorOfQuery(\"Verein\"))"
   ]
  }
 ],
 "metadata": {
  "kernelspec": {
   "display_name": "Python 3",
   "language": "python",
   "name": "python3"
  },
  "language_info": {
   "codemirror_mode": {
    "name": "ipython",
    "version": 3
   },
   "file_extension": ".py",
   "mimetype": "text/x-python",
   "name": "python",
   "nbconvert_exporter": "python",
   "pygments_lexer": "ipython3",
   "version": "3.7.4"
  }
 },
 "nbformat": 4,
 "nbformat_minor": 2
}
