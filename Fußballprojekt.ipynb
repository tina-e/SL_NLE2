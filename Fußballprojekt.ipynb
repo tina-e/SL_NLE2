{
 "cells": [
  {
   "cell_type": "code",
   "execution_count": 2,
   "metadata": {},
   "outputs": [],
   "source": [
    "import sqlite3\n",
    "sqlite_file = 'database.sqlite'\n",
    "\n",
    "query1 = \"Thomas Mueller ist der beste Spieler der Welt!\"\n",
    "query1 = \"Müller Thomas ist der beste Spieler der Welt, nicht Aaron Doran!\"\n",
    "query2 = \"Bundesliga und Jupiler League sind supi!\"\n",
    "#query2 = \"Die deutsche Liga ist supi!\"\n",
    "\n",
    "def getAllPlayerNames():\n",
    "    conn = sqlite3.connect(sqlite_file)\n",
    "    c = conn.cursor()\n",
    "    c.execute('SELECT player_name FROM player')\n",
    "    playerNames = c.fetchall()\n",
    "    conn.close()\n",
    "    return playerNames\n",
    "\n",
    "def getAllLeagues():\n",
    "    conn = sqlite3.connect(sqlite_file)\n",
    "    c = conn.cursor()\n",
    "    c.execute('SELECT name FROM league')\n",
    "    leagueNames = c.fetchall()\n",
    "    conn.close()\n",
    "    return leagueNames\n"
   ]
  },
  {
   "cell_type": "code",
   "execution_count": 22,
   "metadata": {},
   "outputs": [],
   "source": [
    "#needed to handle \"thomas mueller\" and \"mueller thomas\"\n",
    "def getReverseName(name):\n",
    "    x = name.find(\" \")\n",
    "    if x > -1:\n",
    "        return name[x+1:] + \" \"+ name[:x]\n",
    "    return \"XXX\"\n",
    "\n",
    "#returns the database id of the player by name\n",
    "def getPlayerIDByName(name):\n",
    "    conn = sqlite3.connect(sqlite_file)\n",
    "    c = conn.cursor()\n",
    "    queryText = 'SELECT id FROM player WHERE player_name = \"'+ name+'\"'\n",
    "    c.execute(queryText)\n",
    "    playerID = c.fetchall()\n",
    "    conn.close()\n",
    "    \n",
    "    return playerID[0][0]\n",
    "\n",
    "#Returns list with names of found players\n",
    "def getPlayersInQuery(query):\n",
    "    playerList = list()\n",
    "    for name in getAllPlayerNames():\n",
    "        if  name[0].find(\" \") > -1 and name[0] in query or getReverseName(name[0]) in query:\n",
    "            playerList.append(getPlayerIDByName(name[0]))\n",
    "    return playerList\n",
    "\n"
   ]
  },
  {
   "cell_type": "code",
   "execution_count": 25,
   "metadata": {},
   "outputs": [],
   "source": [
    "#needed to handle input like e.g. \"1. Bundesliga\" instead of \"Germany 1. Bundesliga\"\n",
    "def getLeagueNameParts(name):\n",
    "    wordsGivenLeague = list()\n",
    "    #do not ignore country-info for england and scotland because their league has the same name\n",
    "    if \"England\" not in name and \"Scotland\" not in name:\n",
    "        wordsGivenLeague= name.split()\n",
    "        wordsGivenLeague.pop(0)\n",
    "    #merge list elements with single characters\n",
    "    for element in wordsGivenLeague:\n",
    "        if len(element) < 3:\n",
    "            index = wordsGivenLeague.index(element)\n",
    "            if index < 1:\n",
    "                wordsGivenLeague[0] = element + wordsGivenLeague[1]\n",
    "            else:\n",
    "                wordsGivenLeague[1] = wordsGivenLeague[1] + element\n",
    "    #remove words used in more league-names\n",
    "    ambiguiteWords = ['League', 'Liga', 'LIGA']\n",
    "    for word in ambiguiteWords:\n",
    "        if word in wordsGivenLeague:\n",
    "            wordsGivenLeague.remove(word)\n",
    "    return wordsGivenLeague\n",
    "\n",
    "#returns the database id of the league by name\n",
    "def getLeagueIDByName(name):\n",
    "    conn = sqlite3.connect(sqlite_file)\n",
    "    c = conn.cursor()\n",
    "    queryText = 'SELECT id FROM league WHERE name = \"'+ name+'\"'\n",
    "    c.execute(queryText)\n",
    "    leagueID = c.fetchall()\n",
    "    conn.close()\n",
    "    return leagueID[0][0]\n",
    "\n",
    "#Returns list with names of found leagues\n",
    "def getLeaguesInQuery(query):\n",
    "    leagueList = list()\n",
    "    for name in getAllLeagues():\n",
    "        if name[0] in query:\n",
    "            leagueList.append(name[0])\n",
    "        else:\n",
    "            for part in getLeagueNameParts(name[0]):\n",
    "                if part in query:\n",
    "                    leagueList.append(getLeagueIDByName(name[0]))\n",
    "    return leagueList\n"
   ]
  },
  {
   "cell_type": "code",
   "execution_count": 5,
   "metadata": {},
   "outputs": [],
   "source": [
    "#make query insensitive for umlaute\n",
    "def preProcessQuery(query):\n",
    "    umlaut_a = 'ä'.encode()\n",
    "    umlaut_A = 'Ä'.encode()\n",
    "    umlaut_o = 'ö'.encode()\n",
    "    umlaut_O = 'Ö'.encode()\n",
    "    umlaut_u = 'ü'.encode()\n",
    "    umlaut_U = 'Ü'.encode()\n",
    "    \n",
    "    query = query.encode()\n",
    "    \n",
    "    query = query.replace(umlaut_a, b'ae')\n",
    "    query = query.replace(umlaut_A, b'Ae')\n",
    "    query = query.replace(umlaut_o, b'oe')\n",
    "    query = query.replace(umlaut_O, b'Oe')\n",
    "    query = query.replace(umlaut_u, b'ue')\n",
    "    query = query.replace(umlaut_U, b'Ue')\n",
    "    \n",
    "    query = query.decode('utf-8')\n",
    "    print(query)\n",
    "    return query\n"
   ]
  },
  {
   "cell_type": "code",
   "execution_count": 7,
   "metadata": {},
   "outputs": [
    {
     "name": "stdout",
     "output_type": "stream",
     "text": [
      "Mueller Thomas ist der beste Spieler der Welt, nicht Aaron Doran!\n",
      "Bundesliga und Jupiler League sind supi!\n",
      "[3, 10243]\n",
      "[1, 7809]\n"
     ]
    }
   ],
   "source": [
    "query1 = preProcessQuery(query1)\n",
    "query2 = preProcessQuery(query2)\n",
    "\n",
    "playersInQuery = list()\n",
    "for element in getPlayersInQuery(query1):\n",
    "    playersInQuery.append(getPlayerIDByName(element))\n",
    "    #print(getPlayerIDByName(element))\n",
    "    #print(type(getPlayerIDByName(element)))\n",
    "\n",
    "leaguesInQuery = list()\n",
    "for element in getLeaguesInQuery(query2):\n",
    "    leaguesInQuery.append(getLeagueIDByName(element))\n",
    "\n",
    "print(playersInQuery)\n",
    "print(leaguesInQuery)"
   ]
  },
  {
   "cell_type": "code",
   "execution_count": 8,
   "metadata": {},
   "outputs": [
    {
     "ename": "SyntaxError",
     "evalue": "invalid syntax (<ipython-input-8-2aded095e367>, line 1)",
     "output_type": "error",
     "traceback": [
      "\u001b[1;36m  File \u001b[1;32m\"<ipython-input-8-2aded095e367>\"\u001b[1;36m, line \u001b[1;32m1\u001b[0m\n\u001b[1;33m    Query wird verarbeitet:\u001b[0m\n\u001b[1;37m             ^\u001b[0m\n\u001b[1;31mSyntaxError\u001b[0m\u001b[1;31m:\u001b[0m invalid syntax\n"
     ]
    }
   ],
   "source": [
    "Query wird verarbeitet:\n",
    "    \n",
    "- Liefert eine playerID eines Spielers zurück\n",
    "- Keyword \"wiegt\" (oder auch \"schwer\") wird gefunden\n",
    "\n",
    "-> dieses keyword hat nen pointer auf eine SQL Query mit Platzhaltern, in welches die ID des Spielers von dem gesetzt wird\n",
    "\n",
    "\n",
    "'SELECT weight FROM player WHERE id = playerID'\n",
    "\n",
    "\n",
    "flair tool \n",
    "was passiert wenn der Input da rein kommt"
   ]
  },
  {
   "cell_type": "code",
   "execution_count": 9,
   "metadata": {
    "scrolled": true
   },
   "outputs": [
    {
     "ename": "SyntaxError",
     "evalue": "invalid syntax (<ipython-input-9-15be8be642d8>, line 1)",
     "output_type": "error",
     "traceback": [
      "\u001b[1;36m  File \u001b[1;32m\"<ipython-input-9-15be8be642d8>\"\u001b[1;36m, line \u001b[1;32m1\u001b[0m\n\u001b[1;33m    Queries mit \"Tags\"\u001b[0m\n\u001b[1;37m              ^\u001b[0m\n\u001b[1;31mSyntaxError\u001b[0m\u001b[1;31m:\u001b[0m invalid syntax\n"
     ]
    }
   ],
   "source": [
    "Queries mit \"Tags\"\n",
    "\n",
    "Spieler\n",
    "Ligen\n",
    "Verein (evtl abkürzung)\n",
    "Saison / Jahr\n",
    "\n",
    "\n",
    "\n"
   ]
  },
  {
   "cell_type": "code",
   "execution_count": 106,
   "metadata": {},
   "outputs": [],
   "source": [
    "def getBirthday(query):\n",
    "    conn = sqlite3.connect(sqlite_file)\n",
    "    c = conn.cursor()\n",
    "    queryText = 'SELECT birthday FROM player WHERE id = '+str(query[0][0])\n",
    "    c.execute(queryText)\n",
    "    birthday = c.fetchall()\n",
    "    conn.close()\n",
    "    return \"Der Geburtstag ist: \" + str(birthday) + \".\"\n",
    "    \n",
    "def getWeight(query):\n",
    "    conn = sqlite3.connect(sqlite_file)\n",
    "    c = conn.cursor()\n",
    "    queryText = 'SELECT weight FROM player WHERE id = '+str(query[0][0])\n",
    "    c.execute(queryText)\n",
    "    weight = c.fetchall()\n",
    "    conn.close()\n",
    "    return \"Die Person wiegt \" + str(weight) + \".\""
   ]
  },
  {
   "cell_type": "code",
   "execution_count": 113,
   "metadata": {},
   "outputs": [
    {
     "name": "stdout",
     "output_type": "stream",
     "text": [
      "Wie schwer ist Toni Kroos ?\n",
      "[[10455], [], 0, 0]\n"
     ]
    }
   ],
   "source": [
    "answer1 = [1,0,0,0, getBirthday]\n",
    "answer2 = [1,0,0,0, getWeight]\n",
    "answers = []\n",
    "answers.append(answer1)\n",
    "answers.append(answer2)\n",
    "query = preProcessQuery(\"Wie schwer ist Toni Kroos ?\")\n",
    "\n",
    "queryRefined = [getPlayersInQuery(query), getLeaguesInQuery(query),0,0]\n",
    "print(queryRefined)\n"
   ]
  },
  {
   "cell_type": "code",
   "execution_count": 115,
   "metadata": {},
   "outputs": [
    {
     "name": "stdout",
     "output_type": "stream",
     "text": [
      "[0, 1]\n"
     ]
    }
   ],
   "source": [
    "queryToCompare = [len(queryRefined[0]),len(queryRefined[1]),0,0]\n",
    "\n",
    "possibleAnswers = [] \n",
    "#contains index with possible ansers which could match the query depending\n",
    "#on number of player occurances etc\n",
    "\n",
    "for x in range(0,len(answers)):\n",
    "    sqlMatches = True;\n",
    "    for i in range(0, len(queryToCompare)): #interate through the whole [0,1,2,3] array and check \n",
    "        if(queryToCompare[i] != answers[x][i]):  # if something doesnt match, throw it out\n",
    "            sqlMatches = False\n",
    "    if(sqlMatches):\n",
    "        possibleAnswers.append(x)\n",
    "        \n",
    "print(possibleAnswers)"
   ]
  },
  {
   "cell_type": "code",
   "execution_count": 116,
   "metadata": {},
   "outputs": [
    {
     "name": "stdout",
     "output_type": "stream",
     "text": [
      "Der Geburtstag ist: [('1990-01-04 00:00:00',)].\n",
      "Die Person wiegt [(172,)].\n"
     ]
    }
   ],
   "source": [
    "for index in possibleAnswers: #call the solve fu\n",
    "    print(answers[index][4](queryRefined))\n",
    "    "
   ]
  }
 ],
 "metadata": {
  "kernelspec": {
   "display_name": "Python 3",
   "language": "python",
   "name": "python3"
  },
  "language_info": {
   "codemirror_mode": {
    "name": "ipython",
    "version": 3
   },
   "file_extension": ".py",
   "mimetype": "text/x-python",
   "name": "python",
   "nbconvert_exporter": "python",
   "pygments_lexer": "ipython3",
   "version": "3.7.4"
  }
 },
 "nbformat": 4,
 "nbformat_minor": 2
}
