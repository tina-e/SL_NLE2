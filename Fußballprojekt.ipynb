{
 "cells": [
  {
   "cell_type": "code",
   "execution_count": 23,
   "metadata": {},
   "outputs": [],
   "source": [
    "import sqlite3\n",
    "sqlite_file = 'database.sqlite'\n",
    "\n",
    "query1 = \"Thomas Mueller ist der beste Spieler der Welt!\"\n",
    "query1 = \"Müller Thomas ist der beste Spieler der Welt!\"\n",
    "\n",
    "def getAllPlayerNames():\n",
    "    conn = sqlite3.connect(sqlite_file)\n",
    "    c = conn.cursor()\n",
    "    c.execute('SELECT player_name FROM player')\n",
    "    playerNames = c.fetchall()\n",
    "    conn.close()\n",
    "    return playerNames\n",
    "\n"
   ]
  },
  {
   "cell_type": "code",
   "execution_count": 24,
   "metadata": {},
   "outputs": [],
   "source": [
    "#needed to handle \"thomas mueller\" and \"mueller thomas\"\n",
    "def getReverseName(name):\n",
    "    x = name.find(\" \")\n",
    "    if x > -1:\n",
    "        return name[x+1:] + \" \"+ name[:x]\n",
    "    return \"XXX\"\n",
    "\n",
    "#returns the database id of the player by name\n",
    "def getPlayerIDByName(name):\n",
    "    conn = sqlite3.connect(sqlite_file)\n",
    "    c = conn.cursor()\n",
    "    queryText = 'SELECT id FROM player WHERE player_name = \"'+ name+'\"'\n",
    "    c.execute(queryText)\n",
    "    playerID = c.fetchall()\n",
    "    conn.close()\n",
    "    \n",
    "    return playerID[0][0]\n",
    "\n",
    "#Returns list with names of found players\n",
    "def getPlayersInQuery(query):\n",
    "    playerList = list()\n",
    "    for name in getAllPlayerNames():\n",
    "        if  name[0].find(\" \") > -1 and name[0] in query or getReverseName(name[0]) in query:\n",
    "            playerList.append(name[0])\n",
    "    return playerList\n",
    "\n"
   ]
  },
  {
   "cell_type": "code",
   "execution_count": 25,
   "metadata": {},
   "outputs": [
    {
     "name": "stdout",
     "output_type": "stream",
     "text": [
      "Mueller Thomas ist der beste Spieler der Welt!\n",
      "10243\n"
     ]
    }
   ],
   "source": [
    "def preProcessQuery(query):\n",
    "    umlaut_a = 'ä'.encode()\n",
    "    umlaut_A = 'Ä'.encode()\n",
    "    umlaut_o = 'ö'.encode()\n",
    "    umlaut_O = 'Ö'.encode()\n",
    "    umlaut_u = 'ü'.encode()\n",
    "    umlaut_U = 'Ü'.encode()\n",
    "    \n",
    "    #query.replace(\"\\xD6\", \"Oe\")\n",
    "    #query.replace(\"\\xF6\", \"oe\")\n",
    "\n",
    "    #query.replace(\"\\xAE\", \"Ae\")\n",
    "    #query.replace(\"\\xE4\", \"ae\")\n",
    "    \n",
    "    query = query.encode()\n",
    "    \n",
    "    query = query.replace(umlaut_a, b'ae')\n",
    "    query = query.replace(umlaut_A, b'Ae')\n",
    "    query = query.replace(umlaut_o, b'oe')\n",
    "    query = query.replace(umlaut_O, b'Oe')\n",
    "    query = query.replace(umlaut_u, b'ue')\n",
    "    query = query.replace(umlaut_U, b'Ue')\n",
    "    \n",
    "    query = query.decode('utf-8')\n",
    "    print(query)\n",
    "    return query\n",
    "    \n",
    "    \n",
    "query1 = preProcessQuery(query1)\n",
    "\n",
    "for element in getPlayersInQuery(query1):\n",
    "    print(getPlayerIDByName(element))\n",
    "    #print(type(getPlayerIDByName(element)))"
   ]
  }
 ],
 "metadata": {
  "kernelspec": {
   "display_name": "Python 3",
   "language": "python",
   "name": "python3"
  },
  "language_info": {
   "codemirror_mode": {
    "name": "ipython",
    "version": 3
   },
   "file_extension": ".py",
   "mimetype": "text/x-python",
   "name": "python",
   "nbconvert_exporter": "python",
   "pygments_lexer": "ipython3",
   "version": "3.7.4"
  }
 },
 "nbformat": 4,
 "nbformat_minor": 2
}
