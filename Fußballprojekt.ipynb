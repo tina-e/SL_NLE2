{
 "cells": [
  {
   "cell_type": "code",
   "execution_count": 291,
   "metadata": {},
   "outputs": [],
   "source": [
    "from queryAnalyzer import getPlayersInQuery, getLeaguesInQuery, getTeamsInQuery, getSeasonsInQuery, getStagesInQuery\n",
    "import sqlAnswers"
   ]
  },
  {
   "cell_type": "code",
   "execution_count": 292,
   "metadata": {},
   "outputs": [],
   "source": [
    "import sqlite3\n",
    "sqlite_file = 'database.sqlite'\n",
    "\n",
    "query1 = \"Thomas Mueller ist der beste Spieler der Welt!\"\n",
    "query1 = \"Müller Thomas ist der beste Spieler der Welt, nicht Aaron Doran!\"\n",
    "query2 = \"Bundesliga und Jupiler League sind supi!\"\n",
    "query2 = \"Die deutsche Liga ist supi!\"\n"
   ]
  },
  {
   "cell_type": "code",
   "execution_count": 293,
   "metadata": {},
   "outputs": [],
   "source": [
    "#make query insensitive for umlaute\n",
    "def preProcessQuery(query):\n",
    "    umlaut_a = 'ä'.encode()\n",
    "    umlaut_A = 'Ä'.encode()\n",
    "    umlaut_o = 'ö'.encode()\n",
    "    umlaut_O = 'Ö'.encode()\n",
    "    umlaut_u = 'ü'.encode()\n",
    "    umlaut_U = 'Ü'.encode()\n",
    "    \n",
    "    query = query.encode()\n",
    "    \n",
    "    query = query.replace(umlaut_a, b'ae')\n",
    "    query = query.replace(umlaut_A, b'Ae')\n",
    "    query = query.replace(umlaut_o, b'oe')\n",
    "    query = query.replace(umlaut_O, b'Oe')\n",
    "    query = query.replace(umlaut_u, b'ue')\n",
    "    query = query.replace(umlaut_U, b'Ue')\n",
    "    \n",
    "    query = query.decode('utf-8')\n",
    "    \n",
    "    if(query[-1:] == '?' or query[-1:] == '!' or query[-1:] == '.' ):\n",
    "        return query[:-1]\n",
    "    return query"
   ]
  },
  {
   "cell_type": "markdown",
   "metadata": {},
   "source": [
    "Query wird verarbeitet:\n",
    "    \n",
    "- Liefert eine playerID eines Spielers zurück\n",
    "- Keyword \"wiegt\" (oder auch \"schwer\") wird gefunden\n",
    "\n",
    "-> dieses keyword hat nen pointer auf eine SQL Query mit Platzhaltern, in welches die ID des Spielers von dem gesetzt wird\n",
    "\n",
    "\n",
    "'SELECT weight FROM player WHERE id = playerID'\n",
    "\n",
    "\n",
    "flair tool \n",
    "was passiert wenn der Input da rein kommt"
   ]
  },
  {
   "cell_type": "markdown",
   "metadata": {
    "scrolled": true
   },
   "source": [
    "Queries mit \"Tags\"\n",
    "\n",
    "Spieler\n",
    "Ligen\n",
    "Verein (evtl abkürzung)\n",
    "Saison / Jahr\n",
    "\n",
    "\n",
    "\n"
   ]
  },
  {
   "cell_type": "code",
   "execution_count": 294,
   "metadata": {},
   "outputs": [
    {
     "name": "stdout",
     "output_type": "stream",
     "text": [
      "[(307, 1, 1, '2009/2010', 1, '2009-07-31 00:00:00', 665318, 9985, 9997, 2, 2, 1, 2, 4, 6, 8, 2, 4, 6, 8, 4, 6, 1, 2, 4, 6, 8, 2, 4, 6, 8, 4, 6, 1, 3, 3, 3, 3, 7, 7, 7, 7, 10, 10, 1, 3, 3, 3, 3, 7, 7, 7, 7, 10, 10, 38797, 39580, 38800, 37861, 47411, 35412, 39631, 39591, 37262, 25957, 38369, 37868, 33595, 38347, 3329, 149150, 38354, 37866, 36836, None, 5016, 45490, None, None, None, None, None, None, None, None, 1.22, 6, 13, 1.2, 5.5, 10.5, 1.2, 5, 10, 1.17, 5.5, 12, None, None, None, 1.2, 5, 11, 1.18, 6.5, 13, 1.2, 5.5, 12, 1.2, 5.5, 11, 1.17, 6, 11)]\n"
     ]
    }
   ],
   "source": [
    "def getTeamMatches(): #testausrufe\n",
    "    import sqlite3\n",
    "    conn = sqlite3.connect('database.sqlite')\n",
    "    c = conn.cursor()\n",
    "    queryText = 'SELECT * FROM match WHERE id = 307'\n",
    "    c.execute(queryText)\n",
    "    result = c.fetchall()\n",
    "    conn.close()\n",
    "    return result\n",
    "print(getTeamMatches())"
   ]
  },
  {
   "cell_type": "code",
   "execution_count": 296,
   "metadata": {},
   "outputs": [],
   "source": [
    "from flair.embeddings import WordEmbeddings, FlairEmbeddings, StackedEmbeddings\n",
    "\n",
    "# create a StackedEmbedding object that combines crawl and forward/backward flair embeddings \n",
    "#(which take the words next to it into account before giving a vector)\n",
    "german_embedding = WordEmbeddings('de-crawl')\n",
    "#german_embedding = StackedEmbeddings([\n",
    " #                                       WordEmbeddings('de-crawl'),\n",
    "  #                                      FlairEmbeddings('de-forward'),\n",
    "   #                                     FlairEmbeddings('de-backward'),\n",
    "    #                                   ])\n",
    "#needed to check for unknown (e.g. non german) or wrong spelled words\n",
    "crawl_embedding = WordEmbeddings('de-crawl')\n",
    "from flair.data import Sentence\n",
    " \n",
    "import numpy\n",
    "import json"
   ]
  },
  {
   "cell_type": "code",
   "execution_count": 297,
   "metadata": {},
   "outputs": [],
   "source": [
    "#returns the nearest vector from the query to the individual training sentences\n",
    "def getVectorOfAnswer(index, queryV):\n",
    "    with open('trainData.json', 'r') as myfile:\n",
    "        data=myfile.read()\n",
    "    obj = json.loads(data)\n",
    "    bestEmbedding = 0\n",
    "    inIteration1 = True\n",
    "    for sentence in obj[str(index)]:\n",
    "        \n",
    "        sentence = Sentence(preProcessQuery(sentence))\n",
    "        german_embedding.embed(sentence)\n",
    "        \n",
    "        embed = 0\n",
    "        for token in sentence:\n",
    "            \n",
    "            embed += token.embedding.cpu().numpy()\n",
    "        #evtl embed durch die anzahl an Wörtern darin teilen ? beim Finalen auch?\n",
    "        if(inIteration1 == True):\n",
    "            bestEmbedding = embed\n",
    "        elif(angle_between(queryV, bestEmbedding) > angle_between(queryV, embed)): #if a better trining sentence was found\n",
    "            bestEmbedding = embed\n",
    "        inIteration1 = False;\n",
    "            \n",
    "    return bestEmbedding\n",
    "#print(getVectorOfAnswer(0))"
   ]
  },
  {
   "cell_type": "code",
   "execution_count": 298,
   "metadata": {},
   "outputs": [],
   "source": [
    "import numpy as np\n",
    "def getVectorOfQuery(query):\n",
    "    sentence = Sentence(query)\n",
    "    german_embedding.embed(sentence)\n",
    "    \n",
    "    embed = 0\n",
    "    for token in sentence:\n",
    "        #print(token)\n",
    "        print(str(token) + \": \")\n",
    "        #print(np.linalg.norm(token.embedding.numpy()))\n",
    "        embed += token.embedding.cpu().numpy()\n",
    "    return embed\n",
    "\n",
    "\n",
    "def unit_vector(vector):\n",
    "    return vector / np.linalg.norm(vector)\n",
    "\n",
    "def angle_between(v1, v2):\n",
    "    v1_u = unit_vector(v1)\n",
    "    v2_u = unit_vector(v2)\n",
    "    return np.arccos(np.clip(np.dot(v1_u, v2_u), -1.0, 1.0))\n",
    "\n"
   ]
  },
  {
   "cell_type": "code",
   "execution_count": 299,
   "metadata": {},
   "outputs": [],
   "source": [
    "def containsWrongWords(query):\n",
    "    sentence = Sentence(query)\n",
    "    crawl_embedding.embed(sentence)\n",
    "    \n",
    "    for token in sentence:\n",
    "        print(token)\n",
    "        #print(np.linalg.norm(token.embedding.numpy()))\n",
    "        if(np.linalg.norm(token.embedding.cpu().numpy()) == 0.0):\n",
    "            return True\n",
    "    return False\n",
    "    "
   ]
  },
  {
   "cell_type": "code",
   "execution_count": 300,
   "metadata": {},
   "outputs": [],
   "source": [
    "def getAnswer(question):\n",
    "    query = preProcessQuery(question)\n",
    "    \n",
    "    pQ = getPlayersInQuery(query)\n",
    "    lQ = getLeaguesInQuery(pQ[1])\n",
    "    tQ = getTeamsInQuery(lQ[1])\n",
    "    sQ = getSeasonsInQuery(tQ[1])\n",
    "    dQ = getStagesInQuery(sQ[1])\n",
    "    #print(\"Query, aus dem der Vektor gemacht wird:\")\n",
    "    print(dQ[1]) # die letzt query die dann auch dem vector gegeben wird\n",
    "    print(\"\")\n",
    "    \n",
    "    #if(containsWrongWords(yQ[1])):\n",
    "    #    return \"Deine Antwort enthält ein oder mehrer unbekannte Wörter!\"\n",
    "    \n",
    "    queryV = getVectorOfQuery(dQ[1]) # erwarter preprocessed Query, TODO \n",
    "    \n",
    "    queryRefined = [pQ[0],lQ[0],tQ[0],sQ[0],dQ[0]]\n",
    "    #queryV = getVectorOfQuery(pQ[1]) # erwarter preprocessed Query, TODO \n",
    "    #print(getPlayersInQuery(query)[1])\n",
    "\n",
    "    #queryRefined = [pQ[0], getLeaguesInQuery(query),getTeamsInQuery(query),getSeasonsInQuery(query),getStagesInQuery(query)]\n",
    "    print(\"gefundene Dinge: \")\n",
    "    print(queryRefined)\n",
    "    #answers = sqlAnswers.getAnswers()\n",
    "    answers = getAnswers()\n",
    "\n",
    "\n",
    "    queryToCompare = [len(queryRefined[0]),len(queryRefined[1]),len(queryRefined[2]),len(queryRefined[3]),len(queryRefined[4])]\n",
    "    possibleAnswers = [] \n",
    "    #contains index with possible ansers which could match the query depending\n",
    "    #on number of player occurances etc\n",
    "\n",
    "    for x in range(0,len(answers)): #check for every \"answer\", if [1,0,0,0] matches [1,0,0,0] etc\n",
    "        sqlMatches = True;\n",
    "        for i in range(0, len(queryToCompare)): #interate through the whole [0,1,2,3] array and check \n",
    "            if(queryToCompare[i] != answers[x][i]):  # if something doesnt match, throw it out\n",
    "                sqlMatches = False\n",
    "        if(sqlMatches):\n",
    "            possibleAnswers.append(x)\n",
    "        \n",
    "\n",
    "    print(\"In Frage kommende Anworten von der Anzahl der gefundenen Namen etc her: \")       \n",
    "    print(possibleAnswers)\n",
    "    if(len(possibleAnswers) == 1):\n",
    "        return answers[possibleAnswers[0]][5](queryRefined)\n",
    "    if(len(possibleAnswers) == 0):\n",
    "        return \"Es konnte leider keine passende Antwort gefunden werden!\"\n",
    "    angles = []\n",
    "    for answerIndex in possibleAnswers:\n",
    "        angles.append(angle_between(getVectorOfAnswer(answerIndex, queryV),queryV))\n",
    "\n",
    "    print(angles)\n",
    "    print(\"Beste gefundene Antwort anhand der Cosinus Ähnlichkeit: \" + str(angles.index(min(angles))))\n",
    "\n",
    "    return answers[angles.index(min(angles))][5](queryRefined)"
   ]
  },
  {
   "cell_type": "code",
   "execution_count": 315,
   "metadata": {},
   "outputs": [
    {
     "name": "stdout",
     "output_type": "stream",
     "text": [
      "War der 15.Spieltag der Saison 2012/2013 ein Heimspiel für FC Bayern Munich?\n",
      "War der STAGE der Saison SEASON ein Heimspiel fuer TEAM\n",
      "\n",
      "Token: 1 War: \n",
      "Token: 2 der: \n",
      "Token: 3 STAGE: \n",
      "Token: 4 der: \n",
      "Token: 5 Saison: \n",
      "Token: 6 SEASON: \n",
      "Token: 7 ein: \n",
      "Token: 8 Heimspiel: \n",
      "Token: 9 fuer: \n",
      "Token: 10 TEAM: \n",
      "gefundene Dinge: \n",
      "[[], [], [15617], ['2012/2013'], ['15']]\n",
      "In Frage kommende Anworten von der Anzahl der gefundenen Namen etc her: \n",
      "[10, 11, 12]\n",
      "[0.7837039585128879, 0.6206557888336514, 0.7920838053180975]\n",
      "Beste gefundene Antwort anhand der Cosinus Ähnlichkeit: 1\n",
      "get weight\n"
     ]
    },
    {
     "ename": "IndexError",
     "evalue": "list index out of range",
     "output_type": "error",
     "traceback": [
      "\u001b[1;31m---------------------------------------------------------------------------\u001b[0m",
      "\u001b[1;31mIndexError\u001b[0m                                Traceback (most recent call last)",
      "\u001b[1;32m<ipython-input-315-60c56601c89d>\u001b[0m in \u001b[0;36m<module>\u001b[1;34m\u001b[0m\n\u001b[0;32m      1\u001b[0m \u001b[1;31m#Stellen Sie Ihre Frage:\u001b[0m\u001b[1;33m\u001b[0m\u001b[1;33m\u001b[0m\u001b[1;33m\u001b[0m\u001b[0m\n\u001b[0;32m      2\u001b[0m \u001b[0meingabe\u001b[0m \u001b[1;33m=\u001b[0m \u001b[0minput\u001b[0m\u001b[1;33m(\u001b[0m\u001b[1;34m\"\"\u001b[0m\u001b[1;33m)\u001b[0m\u001b[1;33m\u001b[0m\u001b[1;33m\u001b[0m\u001b[0m\n\u001b[1;32m----> 3\u001b[1;33m \u001b[0mprint\u001b[0m\u001b[1;33m(\u001b[0m\u001b[0mgetAnswer\u001b[0m\u001b[1;33m(\u001b[0m\u001b[0meingabe\u001b[0m\u001b[1;33m)\u001b[0m\u001b[1;33m)\u001b[0m\u001b[1;33m\u001b[0m\u001b[1;33m\u001b[0m\u001b[0m\n\u001b[0m",
      "\u001b[1;32m<ipython-input-300-d6b12bd4430c>\u001b[0m in \u001b[0;36mgetAnswer\u001b[1;34m(question)\u001b[0m\n\u001b[0;32m     54\u001b[0m     \u001b[0mprint\u001b[0m\u001b[1;33m(\u001b[0m\u001b[1;34m\"Beste gefundene Antwort anhand der Cosinus Ähnlichkeit: \"\u001b[0m \u001b[1;33m+\u001b[0m \u001b[0mstr\u001b[0m\u001b[1;33m(\u001b[0m\u001b[0mangles\u001b[0m\u001b[1;33m.\u001b[0m\u001b[0mindex\u001b[0m\u001b[1;33m(\u001b[0m\u001b[0mmin\u001b[0m\u001b[1;33m(\u001b[0m\u001b[0mangles\u001b[0m\u001b[1;33m)\u001b[0m\u001b[1;33m)\u001b[0m\u001b[1;33m)\u001b[0m\u001b[1;33m)\u001b[0m\u001b[1;33m\u001b[0m\u001b[1;33m\u001b[0m\u001b[0m\n\u001b[0;32m     55\u001b[0m \u001b[1;33m\u001b[0m\u001b[0m\n\u001b[1;32m---> 56\u001b[1;33m     \u001b[1;32mreturn\u001b[0m \u001b[0manswers\u001b[0m\u001b[1;33m[\u001b[0m\u001b[0mangles\u001b[0m\u001b[1;33m.\u001b[0m\u001b[0mindex\u001b[0m\u001b[1;33m(\u001b[0m\u001b[0mmin\u001b[0m\u001b[1;33m(\u001b[0m\u001b[0mangles\u001b[0m\u001b[1;33m)\u001b[0m\u001b[1;33m)\u001b[0m\u001b[1;33m]\u001b[0m\u001b[1;33m[\u001b[0m\u001b[1;36m5\u001b[0m\u001b[1;33m]\u001b[0m\u001b[1;33m(\u001b[0m\u001b[0mqueryRefined\u001b[0m\u001b[1;33m)\u001b[0m\u001b[1;33m\u001b[0m\u001b[1;33m\u001b[0m\u001b[0m\n\u001b[0m",
      "\u001b[1;32m<ipython-input-223-a9b303490a1c>\u001b[0m in \u001b[0;36mgetWeight\u001b[1;34m(query)\u001b[0m\n\u001b[0;32m     17\u001b[0m     \u001b[0mconn\u001b[0m \u001b[1;33m=\u001b[0m \u001b[0msqlite3\u001b[0m\u001b[1;33m.\u001b[0m\u001b[0mconnect\u001b[0m\u001b[1;33m(\u001b[0m\u001b[1;34m'database.sqlite'\u001b[0m\u001b[1;33m)\u001b[0m\u001b[1;33m\u001b[0m\u001b[1;33m\u001b[0m\u001b[0m\n\u001b[0;32m     18\u001b[0m     \u001b[0mc\u001b[0m \u001b[1;33m=\u001b[0m \u001b[0mconn\u001b[0m\u001b[1;33m.\u001b[0m\u001b[0mcursor\u001b[0m\u001b[1;33m(\u001b[0m\u001b[1;33m)\u001b[0m\u001b[1;33m\u001b[0m\u001b[1;33m\u001b[0m\u001b[0m\n\u001b[1;32m---> 19\u001b[1;33m     \u001b[0mqueryText\u001b[0m \u001b[1;33m=\u001b[0m \u001b[1;34m'SELECT weight FROM player WHERE id = '\u001b[0m\u001b[1;33m+\u001b[0m\u001b[0mstr\u001b[0m\u001b[1;33m(\u001b[0m\u001b[0mquery\u001b[0m\u001b[1;33m[\u001b[0m\u001b[1;36m0\u001b[0m\u001b[1;33m]\u001b[0m\u001b[1;33m[\u001b[0m\u001b[1;36m0\u001b[0m\u001b[1;33m]\u001b[0m\u001b[1;33m)\u001b[0m\u001b[1;33m\u001b[0m\u001b[1;33m\u001b[0m\u001b[0m\n\u001b[0m\u001b[0;32m     20\u001b[0m     \u001b[0mc\u001b[0m\u001b[1;33m.\u001b[0m\u001b[0mexecute\u001b[0m\u001b[1;33m(\u001b[0m\u001b[0mqueryText\u001b[0m\u001b[1;33m)\u001b[0m\u001b[1;33m\u001b[0m\u001b[1;33m\u001b[0m\u001b[0m\n\u001b[0;32m     21\u001b[0m     \u001b[0mweight\u001b[0m \u001b[1;33m=\u001b[0m \u001b[0mc\u001b[0m\u001b[1;33m.\u001b[0m\u001b[0mfetchall\u001b[0m\u001b[1;33m(\u001b[0m\u001b[1;33m)\u001b[0m\u001b[1;33m[\u001b[0m\u001b[1;36m0\u001b[0m\u001b[1;33m]\u001b[0m\u001b[1;33m\u001b[0m\u001b[1;33m\u001b[0m\u001b[0m\n",
      "\u001b[1;31mIndexError\u001b[0m: list index out of range"
     ]
    }
   ],
   "source": [
    "#Stellen Sie Ihre Frage:\n",
    "eingabe = input(\"\")\n",
    "print(getAnswer(eingabe))"
   ]
  },
  {
   "cell_type": "markdown",
   "metadata": {},
   "source": [
    "Manuel Neuer und Thomas Müller 2009 Bundesliga\n",
    "\n",
    "    Funktioniert:\n",
    "    \n",
    "Wo spielte Thomas Müller Heimverein?\n",
    "Was ist der Heimverein von Manuel Neuer?\n",
    "Was ist der Heimverein von Toni Kroos?\n",
    "\n",
    "Was ist das Geburtsdatum von Jerome Boateng?\n",
    "\n",
    "was ist der bevorzugte Fuß von Toni Kroos?\n",
    "\n",
    "Wo hat Manuel Neuer 2008/2009 gespielt?\n",
    "Wo hat Manuel Neuer 2014/2015 gespielt?\n",
    "    \n",
    "In welcher Saison spielte Mario Götze beim FC Bayern Munich?\n",
    "\n",
    "Wie hat der FC Bayern Munich am 15.Spieltag 2012/2013 gespielt?\n",
    "Wie hat der FC Bayern Munich am 15.Spieltag gespielt?\n",
    "\n",
    "Gegen wen hat der FC Bayern Munich am 15.Spieltag 2012/2013 gespielt?\n",
    "Gegen wen hat der FC Bayern Munich am 15.Spieltag gespielt?\n",
    "\n",
    "\n",
    "    SQL sollte funktionieren, aber problematisch:\n",
    "\n",
    "Wie groß ist Toni Kroos? -> nimmt random andere Sachen, die nur 1 Spieler fordern\n",
    "\n",
    "Wie war die Aufstellung des FC Bayern Munich am 15.Spieltag der Saison 2012/2013? -> nimmt getWeight\n",
    "Wie war die Aufstellung des FC Bayern Munich am 15.Spieltag? -> nimmt birthday\n",
    "\n",
    "Wie viele Siege/Niederlagen hatte der FC Bayern Munich (gegen Dortmund) (in der Saison 2012/13)?\n",
    "\n",
    "War der 15.Spieltag der Saison 2012/2013 ein Heimspiel für FC Bayern Munich?"
   ]
  },
  {
   "cell_type": "code",
   "execution_count": null,
   "metadata": {},
   "outputs": [],
   "source": [
    "print(getVectorOfQuery(\"Verein\"))"
   ]
  }
 ],
 "metadata": {
  "kernelspec": {
   "display_name": "Python 3",
   "language": "python",
   "name": "python3"
  },
  "language_info": {
   "codemirror_mode": {
    "name": "ipython",
    "version": 3
   },
   "file_extension": ".py",
   "mimetype": "text/x-python",
   "name": "python",
   "nbconvert_exporter": "python",
   "pygments_lexer": "ipython3",
   "version": "3.7.8"
  }
 },
 "nbformat": 4,
 "nbformat_minor": 2
}
