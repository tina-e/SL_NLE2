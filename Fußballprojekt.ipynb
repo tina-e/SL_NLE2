{
 "cells": [
  {
   "cell_type": "code",
   "execution_count": 1,
   "metadata": {},
   "outputs": [],
   "source": [
    "from queryAnalyzer import getPlayersInQuery, getLeaguesInQuery, getTeams, getSeasons, getStages\n",
    "import sqlAnswers"
   ]
  },
  {
   "cell_type": "code",
   "execution_count": 2,
   "metadata": {},
   "outputs": [],
   "source": [
    "import sqlite3\n",
    "sqlite_file = 'database.sqlite'\n",
    "\n",
    "query1 = \"Thomas Mueller ist der beste Spieler der Welt!\"\n",
    "query1 = \"Müller Thomas ist der beste Spieler der Welt, nicht Aaron Doran!\"\n",
    "query2 = \"Bundesliga und Jupiler League sind supi!\"\n",
    "query2 = \"Die deutsche Liga ist supi!\"\n"
   ]
  },
  {
   "cell_type": "code",
   "execution_count": 3,
   "metadata": {},
   "outputs": [],
   "source": [
    "#make query insensitive for umlaute\n",
    "def preProcessQuery(query):\n",
    "    umlaut_a = 'ä'.encode()\n",
    "    umlaut_A = 'Ä'.encode()\n",
    "    umlaut_o = 'ö'.encode()\n",
    "    umlaut_O = 'Ö'.encode()\n",
    "    umlaut_u = 'ü'.encode()\n",
    "    umlaut_U = 'Ü'.encode()\n",
    "    \n",
    "    query = query.encode()\n",
    "    \n",
    "    query = query.replace(umlaut_a, b'ae')\n",
    "    query = query.replace(umlaut_A, b'Ae')\n",
    "    query = query.replace(umlaut_o, b'oe')\n",
    "    query = query.replace(umlaut_O, b'Oe')\n",
    "    query = query.replace(umlaut_u, b'ue')\n",
    "    query = query.replace(umlaut_U, b'Ue')\n",
    "    \n",
    "    query = query.decode('utf-8')\n",
    "    \n",
    "    if(query[-1:] == '?' or query[-1:] == '!' or query[-1:] == '.' ):\n",
    "        return query[:-1]\n",
    "    return query"
   ]
  },
  {
   "cell_type": "markdown",
   "metadata": {},
   "source": [
    "Query wird verarbeitet:\n",
    "    \n",
    "- Liefert eine playerID eines Spielers zurück\n",
    "- Keyword \"wiegt\" (oder auch \"schwer\") wird gefunden\n",
    "\n",
    "-> dieses keyword hat nen pointer auf eine SQL Query mit Platzhaltern, in welches die ID des Spielers von dem gesetzt wird\n",
    "\n",
    "\n",
    "'SELECT weight FROM player WHERE id = playerID'\n",
    "\n",
    "\n",
    "flair tool \n",
    "was passiert wenn der Input da rein kommt"
   ]
  },
  {
   "cell_type": "markdown",
   "metadata": {
    "scrolled": true
   },
   "source": [
    "Queries mit \"Tags\"\n",
    "\n",
    "Spieler\n",
    "Ligen\n",
    "Verein (evtl abkürzung)\n",
    "Saison / Jahr\n",
    "\n",
    "\n",
    "\n"
   ]
  },
  {
   "cell_type": "code",
   "execution_count": 4,
   "metadata": {},
   "outputs": [],
   "source": [
    "from flair.embeddings import WordEmbeddings\n",
    "from flair.data import Sentence\n",
    "german_embedding = WordEmbeddings('de-crawl')\n",
    " \n",
    "import numpy\n",
    "import json"
   ]
  },
  {
   "cell_type": "code",
   "execution_count": 5,
   "metadata": {},
   "outputs": [],
   "source": [
    "def getVectorOfAnswer(index):\n",
    "    with open('trainData.json', 'r') as myfile:\n",
    "        data=myfile.read()\n",
    "    obj = json.loads(data)\n",
    "    embeddings = 0\n",
    "    for sentence in obj[str(index)]:\n",
    "        \n",
    "        sentence = Sentence(preProcessQuery(sentence))\n",
    "        german_embedding.embed(sentence)\n",
    "        \n",
    "        embed = 0\n",
    "        for token in sentence:\n",
    "            #print(token)\n",
    "            embed += token.embedding.numpy()\n",
    "        #evtl embed durch die anzahl an Wörtern darin teilen ? beim Finalen auch?\n",
    "        embeddings += embed\n",
    "    return embeddings\n",
    "#print(getVectorOfAnswer(0))"
   ]
  },
  {
   "cell_type": "code",
   "execution_count": 6,
   "metadata": {},
   "outputs": [],
   "source": [
    "import numpy as np\n",
    "def getVectorOfQuery(query):\n",
    "    sentence = Sentence(query)\n",
    "    german_embedding.embed(sentence)\n",
    "    \n",
    "    embed = 0\n",
    "    for token in sentence:\n",
    "        #print(token)\n",
    "        embed += token.embedding.numpy()\n",
    "    return embed\n",
    "\n",
    "\n",
    "def unit_vector(vector):\n",
    "    return vector / np.linalg.norm(vector)\n",
    "\n",
    "def angle_between(v1, v2):\n",
    "    v1_u = unit_vector(v1)\n",
    "    v2_u = unit_vector(v2)\n",
    "    return np.arccos(np.clip(np.dot(v1_u, v2_u), -1.0, 1.0))\n",
    "\n"
   ]
  },
  {
   "cell_type": "code",
   "execution_count": 12,
   "metadata": {},
   "outputs": [
    {
     "name": "stdout",
     "output_type": "stream",
     "text": [
      "In Frage kommende Anworten von der Anzahl der gefundenen Namen etc her: \n",
      "[0, 1, 2, 3]\n",
      "[0.3635899, 0.66552806, 0.73512274, 0.7025114]\n",
      "Beste gefundene Antwort anhand der Cosinus Ähnlichkeit: 0\n",
      "Der Geburtstag ist am 27.03.1986.\n"
     ]
    }
   ],
   "source": [
    "\n",
    "query = preProcessQuery(\"Wann hat Manuel Neuer Geburtstag?\")\n",
    "queryV = getVectorOfQuery(\"Wann hat SPIELER Geburtstag\") # erwarter preprocessed Query\n",
    "season = []\n",
    "queryRefined = [getPlayersInQuery(query), getLeaguesInQuery(query),getTeams(query),season]\n",
    "\n",
    "answers = sqlAnswers.getAnswers()\n",
    "\n",
    "\n",
    "queryToCompare = [len(queryRefined[0]),len(queryRefined[1]),len(queryRefined[2]),len(queryRefined[3])]\n",
    "possibleAnswers = [] \n",
    "#contains index with possible ansers which could match the query depending\n",
    "#on number of player occurances etc\n",
    "\n",
    "for x in range(0,len(answers)): #check for every \"answer\", if [1,0,0,0] matches [1,0,0,0] etc\n",
    "    sqlMatches = True;\n",
    "    for i in range(0, len(queryToCompare)): #interate through the whole [0,1,2,3] array and check \n",
    "        if(queryToCompare[i] != answers[x][i]):  # if something doesnt match, throw it out\n",
    "            sqlMatches = False\n",
    "    if(sqlMatches):\n",
    "        possibleAnswers.append(x)\n",
    "        \n",
    "\n",
    "print(\"In Frage kommende Anworten von der Anzahl der gefundenen Namen etc her: \")       \n",
    "print(possibleAnswers)\n",
    "\n",
    "\n",
    "angles = []\n",
    "for answerIndex in possibleAnswers:\n",
    "    angles.append(angle_between(getVectorOfAnswer(answerIndex),queryV))\n",
    "\n",
    "print(angles)\n",
    "print(\"Beste gefundene Antwort anhand der Cosinus Ähnlichkeit: \" + str(angles.index(min(angles))))\n",
    "\n",
    "print(answers[angles.index(min(angles))][4](queryRefined))"
   ]
  }
 ],
 "metadata": {
  "kernelspec": {
   "display_name": "Python 3",
   "language": "python",
   "name": "python3"
  },
  "language_info": {
   "codemirror_mode": {
    "name": "ipython",
    "version": 3
   },
   "file_extension": ".py",
   "mimetype": "text/x-python",
   "name": "python",
   "nbconvert_exporter": "python",
   "pygments_lexer": "ipython3",
   "version": "3.7.4"
  }
 },
 "nbformat": 4,
 "nbformat_minor": 2
}