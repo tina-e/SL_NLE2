{
 "cells": [
  {
   "cell_type": "code",
   "execution_count": 1,
   "metadata": {},
   "outputs": [],
   "source": [
    "from queryAnalyzer import getPlayersInQuery, getLeaguesInQuery, getTeams, getSeasons, getStages\n",
    "import sqlAnswers"
   ]
  },
  {
   "cell_type": "code",
   "execution_count": 2,
   "metadata": {},
   "outputs": [],
   "source": [
    "import sqlite3\n",
    "sqlite_file = 'database.sqlite'\n",
    "\n",
    "query1 = \"Thomas Mueller ist der beste Spieler der Welt!\"\n",
    "query1 = \"Müller Thomas ist der beste Spieler der Welt, nicht Aaron Doran!\"\n",
    "query2 = \"Bundesliga und Jupiler League sind supi!\"\n",
    "query2 = \"Die deutsche Liga ist supi!\"\n"
   ]
  },
  {
   "cell_type": "code",
   "execution_count": 3,
   "metadata": {},
   "outputs": [],
   "source": [
    "#make query insensitive for umlaute\n",
    "def preProcessQuery(query):\n",
    "    umlaut_a = 'ä'.encode()\n",
    "    umlaut_A = 'Ä'.encode()\n",
    "    umlaut_o = 'ö'.encode()\n",
    "    umlaut_O = 'Ö'.encode()\n",
    "    umlaut_u = 'ü'.encode()\n",
    "    umlaut_U = 'Ü'.encode()\n",
    "    \n",
    "    query = query.encode()\n",
    "    \n",
    "    query = query.replace(umlaut_a, b'ae')\n",
    "    query = query.replace(umlaut_A, b'Ae')\n",
    "    query = query.replace(umlaut_o, b'oe')\n",
    "    query = query.replace(umlaut_O, b'Oe')\n",
    "    query = query.replace(umlaut_u, b'ue')\n",
    "    query = query.replace(umlaut_U, b'Ue')\n",
    "    \n",
    "    query = query.decode('utf-8')\n",
    "    \n",
    "    if(query[-1:] == '?' or query[-1:] == '!' or query[-1:] == '.' ):\n",
    "        return query[:-1]\n",
    "    return query"
   ]
  },
  {
   "cell_type": "markdown",
   "metadata": {},
   "source": [
    "Query wird verarbeitet:\n",
    "    \n",
    "- Liefert eine playerID eines Spielers zurück\n",
    "- Keyword \"wiegt\" (oder auch \"schwer\") wird gefunden\n",
    "\n",
    "-> dieses keyword hat nen pointer auf eine SQL Query mit Platzhaltern, in welches die ID des Spielers von dem gesetzt wird\n",
    "\n",
    "\n",
    "'SELECT weight FROM player WHERE id = playerID'\n",
    "\n",
    "\n",
    "flair tool \n",
    "was passiert wenn der Input da rein kommt"
   ]
  },
  {
   "cell_type": "markdown",
   "metadata": {
    "scrolled": true
   },
   "source": [
    "Queries mit \"Tags\"\n",
    "\n",
    "Spieler\n",
    "Ligen\n",
    "Verein (evtl abkürzung)\n",
    "Saison / Jahr\n",
    "\n",
    "\n",
    "\n"
   ]
  },
  {
   "cell_type": "code",
   "execution_count": 4,
   "metadata": {},
   "outputs": [
    {
     "name": "stdout",
     "output_type": "stream",
     "text": [
      "[(307, 1, 1, '2009/2010', 1, '2009-07-31 00:00:00', 665318, 9985, 9997, 2, 2, 1, 2, 4, 6, 8, 2, 4, 6, 8, 4, 6, 1, 2, 4, 6, 8, 2, 4, 6, 8, 4, 6, 1, 3, 3, 3, 3, 7, 7, 7, 7, 10, 10, 1, 3, 3, 3, 3, 7, 7, 7, 7, 10, 10, 38797, 39580, 38800, 37861, 47411, 35412, 39631, 39591, 37262, 25957, 38369, 37868, 33595, 38347, 3329, 149150, 38354, 37866, 36836, None, 5016, 45490, None, None, None, None, None, None, None, None, 1.22, 6, 13, 1.2, 5.5, 10.5, 1.2, 5, 10, 1.17, 5.5, 12, None, None, None, 1.2, 5, 11, 1.18, 6.5, 13, 1.2, 5.5, 12, 1.2, 5.5, 11, 1.17, 6, 11)]\n"
     ]
    }
   ],
   "source": [
    "def getTeamMatches(): #testausrufe\n",
    "    import sqlite3\n",
    "    conn = sqlite3.connect('database.sqlite')\n",
    "    c = conn.cursor()\n",
    "    queryText = 'SELECT * FROM match WHERE id = 307'\n",
    "    c.execute(queryText)\n",
    "    result = c.fetchall()\n",
    "    conn.close()\n",
    "    return result\n",
    "print(getTeamMatches())"
   ]
  },
  {
   "cell_type": "code",
   "execution_count": 5,
   "metadata": {},
   "outputs": [],
   "source": [
    "from flair.embeddings import WordEmbeddings\n",
    "from flair.data import Sentence\n",
    "german_embedding = WordEmbeddings('de-crawl')\n",
    " \n",
    "import numpy\n",
    "import json"
   ]
  },
  {
   "cell_type": "code",
   "execution_count": 6,
   "metadata": {},
   "outputs": [],
   "source": [
    "def getVectorOfAnswer(index):\n",
    "    with open('trainData.json', 'r') as myfile:\n",
    "        data=myfile.read()\n",
    "    obj = json.loads(data)\n",
    "    embeddings = 0\n",
    "    for sentence in obj[str(index)]:\n",
    "        \n",
    "        sentence = Sentence(preProcessQuery(sentence))\n",
    "        german_embedding.embed(sentence)\n",
    "        \n",
    "        embed = 0\n",
    "        for token in sentence:\n",
    "            #print(token)\n",
    "            embed += token.embedding.numpy()\n",
    "        #evtl embed durch die anzahl an Wörtern darin teilen ? beim Finalen auch?\n",
    "        embeddings += embed\n",
    "    return embeddings\n",
    "#print(getVectorOfAnswer(0))"
   ]
  },
  {
   "cell_type": "code",
   "execution_count": 7,
   "metadata": {},
   "outputs": [],
   "source": [
    "import numpy as np\n",
    "def getVectorOfQuery(query):\n",
    "    sentence = Sentence(query)\n",
    "    german_embedding.embed(sentence)\n",
    "    \n",
    "    embed = 0\n",
    "    for token in sentence:\n",
    "        #print(token)\n",
    "        embed += token.embedding.numpy()\n",
    "    return embed\n",
    "\n",
    "\n",
    "def unit_vector(vector):\n",
    "    return vector / np.linalg.norm(vector)\n",
    "\n",
    "def angle_between(v1, v2):\n",
    "    v1_u = unit_vector(v1)\n",
    "    v2_u = unit_vector(v2)\n",
    "    return np.arccos(np.clip(np.dot(v1_u, v2_u), -1.0, 1.0))\n",
    "\n"
   ]
  },
  {
   "cell_type": "code",
   "execution_count": 8,
   "metadata": {},
   "outputs": [],
   "source": [
    "def getAnswer(question):\n",
    "    query = preProcessQuery(question)\n",
    "    queryV = getVectorOfQuery(getPlayersInQuery(query)[1]) # erwarter preprocessed Query, TODO \n",
    "    print(getPlayersInQuery(query)[1])\n",
    "\n",
    "    queryRefined = [getPlayersInQuery(query)[0], getLeaguesInQuery(query),getTeams(query),getSeasons(query),getStages(query)]\n",
    "#print(queryRefined)\n",
    "    answers = sqlAnswers.getAnswers()\n",
    "\n",
    "\n",
    "    queryToCompare = [len(queryRefined[0]),len(queryRefined[1]),len(queryRefined[2]),len(queryRefined[3]),len(queryRefined[4])]\n",
    "    possibleAnswers = [] \n",
    "    #contains index with possible ansers which could match the query depending\n",
    "    #on number of player occurances etc\n",
    "\n",
    "    for x in range(0,len(answers)): #check for every \"answer\", if [1,0,0,0] matches [1,0,0,0] etc\n",
    "        sqlMatches = True;\n",
    "        for i in range(0, len(queryToCompare)): #interate through the whole [0,1,2,3] array and check \n",
    "            if(queryToCompare[i] != answers[x][i]):  # if something doesnt match, throw it out\n",
    "                sqlMatches = False\n",
    "        if(sqlMatches):\n",
    "            possibleAnswers.append(x)\n",
    "        \n",
    "\n",
    "    print(\"In Frage kommende Anworten von der Anzahl der gefundenen Namen etc her: \")       \n",
    "    print(possibleAnswers)\n",
    "    if(len(possibleAnswers) == 1):\n",
    "        return answers[possibleAnswers[0]][5](queryRefined)\n",
    "    if(len(possibleAnswers) == 0):\n",
    "        return \"Es konnte leider keine passende Antwort gefunden werden!\"\n",
    "    angles = []\n",
    "    for answerIndex in possibleAnswers:\n",
    "        angles.append(angle_between(getVectorOfAnswer(answerIndex),queryV))\n",
    "\n",
    "    print(angles)\n",
    "    print(\"Beste gefundene Antwort anhand der Cosinus Ähnlichkeit: \" + str(angles.index(min(angles))))\n",
    "\n",
    "    return answers[angles.index(min(angles))][5](queryRefined)"
   ]
  },
  {
   "cell_type": "code",
   "execution_count": 9,
   "metadata": {},
   "outputs": [
    {
     "name": "stdout",
     "output_type": "stream",
     "text": [
      "Ihre Eingabe? Was ist der Heimverein von Manuel Neuer?\n",
      "Was ist der Heimverein von SPIELER\n",
      "In Frage kommende Anworten von der Anzahl der gefundenen Namen etc her: \n",
      "[0, 1, 2, 3]\n",
      "[0.47503154889938415, 0.5552810544626917, 0.4550696135642723, 0.6079406842618443]\n",
      "Beste gefundene Antwort anhand der Cosinus Ähnlichkeit: 2\n",
      "Der bevorzugte Fuß ist rechts.\n"
     ]
    }
   ],
   "source": [
    "#Stellen Sie Ihre Frage:\n",
    "eingabe = input(\"Ihre Eingabe? \")\n",
    "print(getAnswer(eingabe))"
   ]
  },
  {
   "cell_type": "code",
   "execution_count": null,
   "metadata": {},
   "outputs": [],
   "source": [
    "Was ist der Heimverein von Manuel Neuer?\n",
    "s\n",
    "Wo hat Manuel Neuer 2008/2009 gespielt?\n",
    "Wo hat Manuel Neuer 2014/2015 gespielt?\n",
    "\n",
    "was ist der bevorzugte Fuß von Toni Kroos?\n",
    "\n",
    "Was ist das Geburtsdatum von Jerome Boateng?"
   ]
  },
  {
   "cell_type": "code",
   "execution_count": null,
   "metadata": {},
   "outputs": [],
   "source": []
  },
  {
   "cell_type": "code",
   "execution_count": null,
   "metadata": {},
   "outputs": [],
   "source": []
  }
 ],
 "metadata": {
  "kernelspec": {
   "display_name": "Python 3",
   "language": "python",
   "name": "python3"
  },
  "language_info": {
   "codemirror_mode": {
    "name": "ipython",
    "version": 3
   },
   "file_extension": ".py",
   "mimetype": "text/x-python",
   "name": "python",
   "nbconvert_exporter": "python",
   "pygments_lexer": "ipython3",
   "version": "3.7.8"
  }
 },
 "nbformat": 4,
 "nbformat_minor": 2
}
