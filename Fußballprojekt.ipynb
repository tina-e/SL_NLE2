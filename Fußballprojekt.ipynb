{
 "cells": [
  {
   "cell_type": "code",
   "execution_count": 382,
   "metadata": {},
   "outputs": [],
   "source": [
    "from queryAnalyzer import getPlayersInQuery, getLeaguesInQuery, getTeamsInQuery\n",
    "import sqlAnswers"
   ]
  },
  {
   "cell_type": "code",
   "execution_count": 597,
   "metadata": {},
   "outputs": [],
   "source": [
    "import sqlite3\n",
    "sqlite_file = 'database.sqlite'\n",
    "\n",
    "query1 = \"Thomas Mueller ist der beste Spieler der Welt!\"\n",
    "query1 = \"Müller Thomas ist der beste Spieler der Welt, nicht Aaron Doran!\"\n",
    "query2 = \"Bundesliga und Jupiler League sind supi!\"\n",
    "query2 = \"Die deutsche Liga ist supi!\"\n"
   ]
  },
  {
   "cell_type": "code",
   "execution_count": 598,
   "metadata": {},
   "outputs": [],
   "source": [
    "#make query insensitive for umlaute\n",
    "def preProcessQuery(query):\n",
    "    umlaut_a = 'ä'.encode()\n",
    "    umlaut_A = 'Ä'.encode()\n",
    "    umlaut_o = 'ö'.encode()\n",
    "    umlaut_O = 'Ö'.encode()\n",
    "    umlaut_u = 'ü'.encode()\n",
    "    umlaut_U = 'Ü'.encode()\n",
    "    \n",
    "    query = query.encode()\n",
    "    \n",
    "    query = query.replace(umlaut_a, b'ae')\n",
    "    query = query.replace(umlaut_A, b'Ae')\n",
    "    query = query.replace(umlaut_o, b'oe')\n",
    "    query = query.replace(umlaut_O, b'Oe')\n",
    "    query = query.replace(umlaut_u, b'ue')\n",
    "    query = query.replace(umlaut_U, b'Ue')\n",
    "    \n",
    "    query = query.decode('utf-8')\n",
    "    print(query)\n",
    "    return query\n"
   ]
  },
  {
   "cell_type": "markdown",
   "metadata": {},
   "source": [
    "Query wird verarbeitet:\n",
    "    \n",
    "- Liefert eine playerID eines Spielers zurück\n",
    "- Keyword \"wiegt\" (oder auch \"schwer\") wird gefunden\n",
    "\n",
    "-> dieses keyword hat nen pointer auf eine SQL Query mit Platzhaltern, in welches die ID des Spielers von dem gesetzt wird\n",
    "\n",
    "\n",
    "'SELECT weight FROM player WHERE id = playerID'\n",
    "\n",
    "\n",
    "flair tool \n",
    "was passiert wenn der Input da rein kommt"
   ]
  },
  {
   "cell_type": "markdown",
   "metadata": {
    "scrolled": true
   },
   "source": [
    "Queries mit \"Tags\"\n",
    "\n",
    "Spieler\n",
    "Ligen\n",
    "Verein (evtl abkürzung)\n",
    "Saison / Jahr\n",
    "\n",
    "\n",
    "\n"
   ]
  },
  {
   "cell_type": "code",
   "execution_count": 639,
   "metadata": {
    "tags": []
   },
   "outputs": [
    {
     "name": "stdout",
     "output_type": "stream",
     "text": [
      "Wie Arsenal Liverpool?\n",
      "Wie viel wiegt Thomas Mueller ?\n",
      "in Welchem Verein spielt Mesut Oezil ?\n",
      "[[7327], [], [], ['2008/2009']]\n"
     ]
    }
   ],
   "source": [
    "\n",
    "query = preProcessQuery(\"Wie Arsenal Liverpool?\")\n",
    "query = preProcessQuery(\"Wie viel wiegt Thomas Müller ?\")\n",
    "query = preProcessQuery(\"in Welchem Verein spielt Mesut Özil ?\")\n",
    "#queryRefined = [getPlayersInQuery(query), getLeaguesInQuery(query),getTeamsInQuery(query),[\"2008/2009\"]]\n",
    "\n",
    "season = [\"2008/2009\"]\n",
    "\n",
    "queryRefined = [getPlayersInQuery(query), getLeaguesInQuery(query),getTeamsInQuery(query),season]\n",
    "\n",
    "\n",
    "\n",
    "\n",
    "print(queryRefined)\n",
    "\n",
    "import importlib\n",
    "importlib.reload(sqlAnswers)\n",
    "\n",
    "answers = sqlAnswers.getAnswers()"
   ]
  },
  {
   "cell_type": "code",
   "execution_count": 640,
   "metadata": {},
   "outputs": [
    {
     "name": "stdout",
     "output_type": "stream",
     "text": [
      "In Frage kommende Anworten von der Anzahl der gefundenen Namen etc her: \n",
      "[4]\n"
     ]
    }
   ],
   "source": [
    "queryToCompare = [len(queryRefined[0]),len(queryRefined[1]),len(queryRefined[2]),len(queryRefined[3])]\n",
    "queryToCompare = [len(queryRefined[0]),len(queryRefined[1]),len(queryRefined[2]),len(queryRefined[3])]\n",
    "possibleAnswers = [] \n",
    "#contains index with possible ansers which could match the query depending\n",
    "#on number of player occurances etc\n",
    "\n",
    "for x in range(0,len(answers)): #check for every \"answer\", if [1,0,0,0] matches [1,0,0,0] etc\n",
    "    sqlMatches = True;\n",
    "    for i in range(0, len(queryToCompare)): #interate through the whole [0,1,2,3] array and check \n",
    "        if(queryToCompare[i] != answers[x][i]):  # if something doesnt match, throw it out\n",
    "            sqlMatches = False\n",
    "    if(sqlMatches):\n",
    "        possibleAnswers.append(x)\n",
    "        \n",
    "\n",
    "print(\"In Frage kommende Anworten von der Anzahl der gefundenen Namen etc her: \")       \n",
    "print(possibleAnswers)"
   ]
  },
  {
   "cell_type": "code",
   "execution_count": 641,
   "metadata": {},
   "outputs": [
    {
     "name": "stdout",
     "output_type": "stream",
     "text": [
      "Der Spieler spielte in Saison 2008/2009 bei Arsenal.\n"
     ]
    }
   ],
   "source": [
    "#print(sqlAnswers.getTeamApiIDByID(3459))\n",
    "#print(sqlAnswers.getMatchResultsAgainst(3459, 3462,\"2015/2016\"))\n",
    "\n",
    "for index in possibleAnswers:\n",
    "    print(answers[index][4](queryRefined))\n",
    "    "
   ]
  },
  {
   "cell_type": "code",
   "execution_count": 582,
   "metadata": {},
   "outputs": [
    {
     "name": "stdout",
     "output_type": "stream",
     "text": [
      "[(9951,), (9960,), (9978,), (9996,), (10014,), (10041,), (10077,), (10095,), (10113,), (10131,), (10149,), (10158,), (10176,), (10194,), (10203,), (10221,), (10239,)]\n"
     ]
    }
   ],
   "source": [
    "#print(sqlAnswers.getTeamApiIDByPlayerID(6556, '2012/2013'))\n",
    "\n",
    "print(sqlAnswers.getHomeMatchesOfPlayer(27299, '2015/2016'))\n",
    "#getHomeMatchesOfPlayer(getPlayerAPIIdById(player_id),season)"
   ]
  },
  {
   "cell_type": "code",
   "execution_count": 619,
   "metadata": {},
   "outputs": [
    {
     "name": "stdout",
     "output_type": "stream",
     "text": [
      "[(3,)]\n"
     ]
    }
   ],
   "source": [
    "def getTeamMatches():\n",
    "    import sqlite3\n",
    "    conn = sqlite3.connect('database.sqlite')\n",
    "    c = conn.cursor()\n",
    "    queryText = 'SELECT league_id FROM match WHERE home_team_api_id = 10000 AND away_team_api_id = 9994'\n",
    "    queryText = 'SELECT team_api_id FROM team WHERE id = 15617'\n",
    "    #Bayern münchen hat die api id von 9823, die normale ID wäre 15617\n",
    "    \n",
    "    #wenn keine season angegeben wird, evtl die letzte nehmen? weil es gibt ja auch spielerwechsel\n",
    "    queryText = 'SELECT id FROM match WHERE home_team_api_id = 9823 OR away_team_api_id = 9823 AND season = 2008/2009 '\n",
    "    queryText = 'SELECT * FROM match WHERE match.id = 7809 AND season = \"2008/2009\"'\n",
    "    \n",
    "    \n",
    "    \n",
    "    queryText = 'SELECT id FROM match WHERE home_team_api_id = 9823 OR away_team_api_id = 9823' #liefert alle spiele von bayern münchen\n",
    "    queryText = 'SELECT id FROM match WHERE home_team_api_id = 9823 OR away_team_api_id = 9823 AND season = \"2015/2016\"'\n",
    "    \n",
    "    queryText = 'SELECT id FROM match WHERE home_team_api_id = 9823 '#OR away_team_api_id = 9823 AND season = \"2015/2016\"'\n",
    "    \n",
    "    \n",
    "    #10239 hatte bayern ein Heimspiel\n",
    "    #spieler 1 war da 27299(api) / 6556, das heißt manuel Neuer war im Tor\n",
    "    #queryText = 'SELECT away_player_1 FROM match WHERE id = 10189'\n",
    "    queryText = 'SELECT home_team_api_id FROM match WHERE id = 7838'  #hier soll wohl schalke ein heimspiel haben\n",
    "    \n",
    "    queryText = 'SELECT * FROM team WHERE team_api_id = 10189'\n",
    "    \n",
    "    \n",
    "    team_api_id1 = sqlAnswers.getTeamApiIDByID(3462)\n",
    "    team_api_id2 = sqlAnswers.getTeamApiIDByID(3459)\n",
    "    queryText = 'SELECT home_team_goal FROM match WHERE home_team_api_id = '+str(team_api_id1)+' AND away_team_api_id = '+str(team_api_id2) + ' AND season = \"2015/2016\"'\n",
    "    #season = \"season = '2015/2016'\"\n",
    "    #player_api_id = 27299\n",
    "    #queryText = 'SELECT id FROM match WHERE '+season+' AND  home_player_1 =' + str(player_api_id) + ' OR home_player_2 =' + str(player_api_id) + ' OR home_player_3 =' + str(player_api_id)+ ' OR home_player_4 =' + str(player_api_id)+ ' OR home_player_5 =' + str(player_api_id)+ ' OR home_player_6 =' + str(player_api_id)+ ' OR home_player_7 =' + str(player_api_id)+ ' OR home_player_8 =' + str(player_api_id)+ ' OR home_player_9 =' + str(player_api_id)+ ' OR home_player_10 =' + str(player_api_id)+ ' OR home_player_11 =' + str(player_api_id)\n",
    "    \n",
    "    \n",
    "    c.execute(queryText)\n",
    "    result = c.fetchall()\n",
    "    conn.close()\n",
    "    return result\n",
    "print(getTeamMatches())\n",
    "#print(sqlAnswers.getTeamApiIDByName(\"Liverpool\"))"
   ]
  }
 ],
 "metadata": {
  "kernelspec": {
   "display_name": "Python 3",
   "language": "python",
   "name": "python3"
  },
  "language_info": {
   "codemirror_mode": {
    "name": "ipython",
    "version": 3
   },
   "file_extension": ".py",
   "mimetype": "text/x-python",
   "name": "python",
   "nbconvert_exporter": "python",
   "pygments_lexer": "ipython3",
   "version": "3.7.4"
  }
 },
 "nbformat": 4,
 "nbformat_minor": 2
}
