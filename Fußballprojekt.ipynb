{
 "cells": [
  {
   "cell_type": "code",
   "execution_count": 1,
   "metadata": {},
   "outputs": [],
   "source": [
    "from queryAnalyzer import getPlayersInQuery, getLeaguesInQuery, getTeamsInQuery, getSeasonsInQuery, getStagesInQuery\n",
    "import sqlAnswers"
   ]
  },
  {
   "cell_type": "code",
   "execution_count": 2,
   "metadata": {},
   "outputs": [],
   "source": [
    "import sqlite3\n",
    "sqlite_file = 'database.sqlite'\n",
    "\n",
    "query1 = \"Thomas Mueller ist der beste Spieler der Welt!\"\n",
    "query1 = \"Müller Thomas ist der beste Spieler der Welt, nicht Aaron Doran!\"\n",
    "query2 = \"Bundesliga und Jupiler League sind supi!\"\n",
    "query2 = \"Die deutsche Liga ist supi!\"\n"
   ]
  },
  {
   "cell_type": "code",
   "execution_count": 3,
   "metadata": {},
   "outputs": [],
   "source": [
    "#make query insensitive for umlaute\n",
    "def preProcessQuery(query):\n",
    "    umlaut_a = 'ä'.encode()\n",
    "    umlaut_A = 'Ä'.encode()\n",
    "    umlaut_o = 'ö'.encode()\n",
    "    umlaut_O = 'Ö'.encode()\n",
    "    umlaut_u = 'ü'.encode()\n",
    "    umlaut_U = 'Ü'.encode()\n",
    "    \n",
    "    query = query.encode()\n",
    "    \n",
    "    query = query.replace(umlaut_a, b'ae')\n",
    "    query = query.replace(umlaut_A, b'Ae')\n",
    "    query = query.replace(umlaut_o, b'oe')\n",
    "    query = query.replace(umlaut_O, b'Oe')\n",
    "    query = query.replace(umlaut_u, b'ue')\n",
    "    query = query.replace(umlaut_U, b'Ue')\n",
    "    \n",
    "    query = query.decode('utf-8')\n",
    "    \n",
    "    if(query[-1:] == '?' or query[-1:] == '!' or query[-1:] == '.' ):\n",
    "        return query[:-1]\n",
    "    return query"
   ]
  },
  {
   "cell_type": "markdown",
   "metadata": {},
   "source": [
    "Query wird verarbeitet:\n",
    "    \n",
    "- Liefert eine playerID eines Spielers zurück\n",
    "- Keyword \"wiegt\" (oder auch \"schwer\") wird gefunden\n",
    "\n",
    "-> dieses keyword hat nen pointer auf eine SQL Query mit Platzhaltern, in welches die ID des Spielers von dem gesetzt wird\n",
    "\n",
    "\n",
    "'SELECT weight FROM player WHERE id = playerID'\n",
    "\n",
    "\n",
    "flair tool \n",
    "was passiert wenn der Input da rein kommt"
   ]
  },
  {
   "cell_type": "markdown",
   "metadata": {
    "scrolled": true
   },
   "source": [
    "Queries mit \"Tags\"\n",
    "\n",
    "Spieler\n",
    "Ligen\n",
    "Verein (evtl abkürzung)\n",
    "Saison / Jahr\n",
    "\n",
    "\n",
    "\n"
   ]
  },
  {
   "cell_type": "code",
   "execution_count": 4,
   "metadata": {},
   "outputs": [
    {
     "name": "stdout",
     "output_type": "stream",
     "text": [
      "[(307, 1, 1, '2009/2010', 1, '2009-07-31 00:00:00', 665318, 9985, 9997, 2, 2, 1, 2, 4, 6, 8, 2, 4, 6, 8, 4, 6, 1, 2, 4, 6, 8, 2, 4, 6, 8, 4, 6, 1, 3, 3, 3, 3, 7, 7, 7, 7, 10, 10, 1, 3, 3, 3, 3, 7, 7, 7, 7, 10, 10, 38797, 39580, 38800, 37861, 47411, 35412, 39631, 39591, 37262, 25957, 38369, 37868, 33595, 38347, 3329, 149150, 38354, 37866, 36836, None, 5016, 45490, None, None, None, None, None, None, None, None, 1.22, 6, 13, 1.2, 5.5, 10.5, 1.2, 5, 10, 1.17, 5.5, 12, None, None, None, 1.2, 5, 11, 1.18, 6.5, 13, 1.2, 5.5, 12, 1.2, 5.5, 11, 1.17, 6, 11)]\n"
     ]
    }
   ],
   "source": [
    "def getTeamMatches(): #testausrufe\n",
    "    import sqlite3\n",
    "    conn = sqlite3.connect('database.sqlite')\n",
    "    c = conn.cursor()\n",
    "    queryText = 'SELECT * FROM match WHERE id = 307'\n",
    "    c.execute(queryText)\n",
    "    result = c.fetchall()\n",
    "    conn.close()\n",
    "    return result\n",
    "print(getTeamMatches())"
   ]
  },
  {
   "cell_type": "code",
   "execution_count": 5,
   "metadata": {},
   "outputs": [],
   "source": [
    "from flair.embeddings import WordEmbeddings, FlairEmbeddings, StackedEmbeddings\n",
    "\n",
    "# create a StackedEmbedding object that combines crawl and forward/backward flair embeddings \n",
    "#(which take the words next to it into account before giving a vector)\n",
    "german_embedding = StackedEmbeddings([\n",
    "                                        WordEmbeddings('de-crawl'),\n",
    "                                        FlairEmbeddings('de-forward'),\n",
    "                                        FlairEmbeddings('de-backward'),\n",
    "                                       ])\n",
    "#needed to check for unknown (e.g. non german) or wrong spelled words\n",
    "crawl_embedding = WordEmbeddings('de-crawl')\n",
    "from flair.data import Sentence\n",
    " \n",
    "import numpy\n",
    "import json"
   ]
  },
  {
   "cell_type": "code",
   "execution_count": 8,
   "metadata": {},
   "outputs": [
    {
     "ename": "TypeError",
     "evalue": "getVectorOfAnswer() missing 1 required positional argument: 'queryV'",
     "output_type": "error",
     "traceback": [
      "\u001b[1;31m---------------------------------------------------------------------------\u001b[0m",
      "\u001b[1;31mTypeError\u001b[0m                                 Traceback (most recent call last)",
      "\u001b[1;32m<ipython-input-8-9d2c6cdba6e0>\u001b[0m in \u001b[0;36m<module>\u001b[1;34m\u001b[0m\n\u001b[0;32m     23\u001b[0m \u001b[1;33m\u001b[0m\u001b[0m\n\u001b[0;32m     24\u001b[0m     \u001b[1;32mreturn\u001b[0m \u001b[0mbestEmbedding\u001b[0m\u001b[1;33m\u001b[0m\u001b[1;33m\u001b[0m\u001b[0m\n\u001b[1;32m---> 25\u001b[1;33m \u001b[0mprint\u001b[0m\u001b[1;33m(\u001b[0m\u001b[0mgetVectorOfAnswer\u001b[0m\u001b[1;33m(\u001b[0m\u001b[1;36m0\u001b[0m\u001b[1;33m)\u001b[0m\u001b[1;33m)\u001b[0m\u001b[1;33m\u001b[0m\u001b[1;33m\u001b[0m\u001b[0m\n\u001b[0m",
      "\u001b[1;31mTypeError\u001b[0m: getVectorOfAnswer() missing 1 required positional argument: 'queryV'"
     ]
    }
   ],
   "source": [
    "#returns the nearest vector from the query to the individual training sentences\n",
    "def getVectorOfAnswer(index, queryV):\n",
    "    with open('trainData.json', 'r') as myfile:\n",
    "        data=myfile.read()\n",
    "    obj = json.loads(data)\n",
    "    bestEmbedding = 0\n",
    "    inIteration1 = True\n",
    "    for sentence in obj[str(index)]:\n",
    "        \n",
    "        sentence = Sentence(preProcessQuery(sentence))\n",
    "        german_embedding.embed(sentence)\n",
    "        \n",
    "        embed = 0\n",
    "        for token in sentence:\n",
    "            \n",
    "            embed += token.embedding.numpy()\n",
    "        #evtl embed durch die anzahl an Wörtern darin teilen ? beim Finalen auch?\n",
    "        if(inIteration1 == True):\n",
    "            bestEmbedding = embed\n",
    "        elif(angle_between(queryV, bestEmbedding) > angle_between(queryV, embed)): #if a better trining sentence was found\n",
    "            bestEmbedding = embed\n",
    "        inIteration1 = False;\n",
    "            \n",
    "    return bestEmbedding\n",
    "#print(getVectorOfAnswer(0))"
   ]
  },
  {
   "cell_type": "code",
   "execution_count": 7,
   "metadata": {},
   "outputs": [],
   "source": [
    "import numpy as np\n",
    "def getVectorOfQuery(query):\n",
    "    sentence = Sentence(query)\n",
    "    german_embedding.embed(sentence)\n",
    "    \n",
    "    embed = 0\n",
    "    for token in sentence:\n",
    "        #print(token)\n",
    "        print(str(token) + \": \")\n",
    "        print(np.linalg.norm(token.embedding.numpy()))\n",
    "        embed += token.embedding.numpy()\n",
    "    return embed\n",
    "\n",
    "\n",
    "def unit_vector(vector):\n",
    "    return vector / np.linalg.norm(vector)\n",
    "\n",
    "def angle_between(v1, v2):\n",
    "    v1_u = unit_vector(v1)\n",
    "    v2_u = unit_vector(v2)\n",
    "    return np.arccos(np.clip(np.dot(v1_u, v2_u), -1.0, 1.0))\n",
    "\n"
   ]
  },
  {
   "cell_type": "code",
   "execution_count": 9,
   "metadata": {},
   "outputs": [],
   "source": [
    "def containsWrongWords(query):\n",
    "    sentence = Sentence(query)\n",
    "    crawl_embedding.embed(sentence)\n",
    "    \n",
    "    for token in sentence:\n",
    "        print(token)\n",
    "        print(np.linalg.norm(token.embedding.numpy()))\n",
    "        if(np.linalg.norm(token.embedding.numpy()) == 0.0):\n",
    "            return True\n",
    "    return False\n",
    "    "
   ]
  },
  {
   "cell_type": "code",
   "execution_count": 10,
   "metadata": {},
   "outputs": [],
   "source": [
    "def getAnswer(question):\n",
    "    query = preProcessQuery(question)\n",
    "    \n",
    "    pQ = getPlayersInQuery(query)\n",
    "    lQ = getLeaguesInQuery(pQ[1])\n",
    "    tQ = getTeamsInQuery(lQ[1])\n",
    "    sQ = getSeasonsInQuery(tQ[1])\n",
    "    yQ = getStagesInQuery(sQ[1])\n",
    "    #print(\"Query, aus dem der Vektor gemacht wird:\")\n",
    "    print(yQ[1]) # die letzt query die dann auch dem vector gegeben wird\n",
    "    print(\"\")\n",
    "    \n",
    "    #if(containsWrongWords(yQ[1])):\n",
    "    #    return \"Deine Antwort enthält ein oder mehrer unbekannte Wörter!\"\n",
    "    \n",
    "    queryV = getVectorOfQuery(yQ[1]) # erwarter preprocessed Query, TODO \n",
    "    \n",
    "    queryRefined = [pQ[0],lQ[0],tQ[0],sQ[0],yQ[0]]\n",
    "    #queryV = getVectorOfQuery(pQ[1]) # erwarter preprocessed Query, TODO \n",
    "    #print(getPlayersInQuery(query)[1])\n",
    "\n",
    "    #queryRefined = [pQ[0], getLeaguesInQuery(query),getTeamsInQuery(query),getSeasonsInQuery(query),getStagesInQuery(query)]\n",
    "    print(\"gefundene Dinge: \")\n",
    "    print(queryRefined)\n",
    "    answers = sqlAnswers.getAnswers()\n",
    "\n",
    "\n",
    "    queryToCompare = [len(queryRefined[0]),len(queryRefined[1]),len(queryRefined[2]),len(queryRefined[3]),len(queryRefined[4])]\n",
    "    possibleAnswers = [] \n",
    "    #contains index with possible ansers which could match the query depending\n",
    "    #on number of player occurances etc\n",
    "\n",
    "    for x in range(0,len(answers)): #check for every \"answer\", if [1,0,0,0] matches [1,0,0,0] etc\n",
    "        sqlMatches = True;\n",
    "        for i in range(0, len(queryToCompare)): #interate through the whole [0,1,2,3] array and check \n",
    "            if(queryToCompare[i] != answers[x][i]):  # if something doesnt match, throw it out\n",
    "                sqlMatches = False\n",
    "        if(sqlMatches):\n",
    "            possibleAnswers.append(x)\n",
    "        \n",
    "\n",
    "    print(\"In Frage kommende Anworten von der Anzahl der gefundenen Namen etc her: \")       \n",
    "    print(possibleAnswers)\n",
    "    if(len(possibleAnswers) == 1):\n",
    "        return answers[possibleAnswers[0]][5](queryRefined)\n",
    "    if(len(possibleAnswers) == 0):\n",
    "        return \"Es konnte leider keine passende Antwort gefunden werden!\"\n",
    "    angles = []\n",
    "    for answerIndex in possibleAnswers:\n",
    "        angles.append(angle_between(getVectorOfAnswer(answerIndex, queryV),queryV))\n",
    "\n",
    "    print(angles)\n",
    "    print(\"Beste gefundene Antwort anhand der Cosinus Ähnlichkeit: \" + str(angles.index(min(angles))))\n",
    "\n",
    "    return answers[angles.index(min(angles))][5](queryRefined)"
   ]
  },
  {
   "cell_type": "code",
   "execution_count": 11,
   "metadata": {},
   "outputs": [
    {
     "name": "stdout",
     "output_type": "stream",
     "text": [
      "wie schwer ist Thomas Müller?\n",
      "wie schwer ist SPIELER\n",
      "\n",
      "Token: 1 wie: \n",
      "8.033962\n",
      "Token: 2 schwer: \n",
      "7.400247\n",
      "Token: 3 ist: \n",
      "6.84859\n",
      "Token: 4 SPIELER: \n",
      "7.6537137\n",
      "gefundene Dinge: \n",
      "[[10243], [], [], [], []]\n",
      "In Frage kommende Anworten von der Anzahl der gefundenen Namen etc her: \n",
      "[0, 1, 2, 3]\n",
      "[0.7266068, 0.5812133, 0.822204, 0.8671051]\n",
      "Beste gefundene Antwort anhand der Cosinus Ähnlichkeit: 1\n",
      "Die Person wiegt 74kg.\n"
     ]
    }
   ],
   "source": [
    "#Stellen Sie Ihre Frage:\n",
    "eingabe = input(\"\")\n",
    "print(getAnswer(eingabe))"
   ]
  },
  {
   "cell_type": "markdown",
   "metadata": {},
   "source": [
    "Manuel Neuer und Thomas Müller 2009 Bundesliga\n",
    "Wo spielte Thomas Müller Heimverein?\n",
    "Was ist der Heimverein von Manuel Neuer?\n",
    "Was ist der Heimverein von Toni Kroos?\n",
    "\n",
    "Wo hat Manuel Neuer 2008/2009 gespielt?\n",
    "Wo hat Manuel Neuer 2014/2015 gespielt?\n",
    "\n",
    "was ist der bevorzugte Fuß von Toni Kroos?\n",
    "\n",
    "Was ist das Geburtsdatum von Jerome Boateng?"
   ]
  },
  {
   "cell_type": "code",
   "execution_count": null,
   "metadata": {},
   "outputs": [],
   "source": [
    "print(getVectorOfQuery(\"Verein\"))"
   ]
  }
 ],
 "metadata": {
  "kernelspec": {
   "display_name": "Python 3",
   "language": "python",
   "name": "python3"
  },
  "language_info": {
   "codemirror_mode": {
    "name": "ipython",
    "version": 3
   },
   "file_extension": ".py",
   "mimetype": "text/x-python",
   "name": "python",
   "nbconvert_exporter": "python",
   "pygments_lexer": "ipython3",
   "version": "3.7.4"
  }
 },
 "nbformat": 4,
 "nbformat_minor": 2
}
